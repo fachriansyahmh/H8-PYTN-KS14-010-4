{
 "cells": [
  {
   "cell_type": "markdown",
   "id": "142a013e",
   "metadata": {},
   "source": [
    "# Import Library"
   ]
  },
  {
   "cell_type": "markdown",
   "id": "c8a263f0",
   "metadata": {},
   "source": [
    "Library yang dibutuhkan antara lain pandas, numpy, matplotlib, dan matplotlib.pyplot"
   ]
  },
  {
   "cell_type": "code",
   "execution_count": 1,
   "id": "539aed20",
   "metadata": {},
   "outputs": [],
   "source": [
    "import pandas as pd\n",
    "import numpy as np\n",
    "import matplotlib.pyplot as plt\n",
    "import matplotlib as mpl\n",
    "from wordcloud import WordCloud, STOPWORDS\n",
    "import folium"
   ]
  },
  {
   "cell_type": "markdown",
   "id": "92a54795",
   "metadata": {},
   "source": [
    "# Import Data"
   ]
  },
  {
   "cell_type": "markdown",
   "id": "bb2561b8",
   "metadata": {},
   "source": [
    "## Mengambil dan Membaca Data"
   ]
  },
  {
   "cell_type": "code",
   "execution_count": 2,
   "id": "7cdd49ab",
   "metadata": {},
   "outputs": [],
   "source": [
    "# Mengambil\n",
    "df = pd.read_csv('london_crime_by_lsoa.csv')"
   ]
  },
  {
   "cell_type": "markdown",
   "id": "bbbfa494",
   "metadata": {},
   "source": [
    "Pada Assignment 1 ini kita mengambil data dari link \"https://www.kaggle.com/datasets/jboysen/london-crime\" yang berjudul London Crime Data, 2008-2016"
   ]
  },
  {
   "cell_type": "code",
   "execution_count": 3,
   "id": "310de2cd",
   "metadata": {},
   "outputs": [
    {
     "data": {
      "text/html": [
       "<div>\n",
       "<style scoped>\n",
       "    .dataframe tbody tr th:only-of-type {\n",
       "        vertical-align: middle;\n",
       "    }\n",
       "\n",
       "    .dataframe tbody tr th {\n",
       "        vertical-align: top;\n",
       "    }\n",
       "\n",
       "    .dataframe thead th {\n",
       "        text-align: right;\n",
       "    }\n",
       "</style>\n",
       "<table border=\"1\" class=\"dataframe\">\n",
       "  <thead>\n",
       "    <tr style=\"text-align: right;\">\n",
       "      <th></th>\n",
       "      <th>lsoa_code</th>\n",
       "      <th>borough</th>\n",
       "      <th>major_category</th>\n",
       "      <th>minor_category</th>\n",
       "      <th>value</th>\n",
       "      <th>year</th>\n",
       "      <th>month</th>\n",
       "    </tr>\n",
       "  </thead>\n",
       "  <tbody>\n",
       "    <tr>\n",
       "      <th>0</th>\n",
       "      <td>E01001116</td>\n",
       "      <td>Croydon</td>\n",
       "      <td>Burglary</td>\n",
       "      <td>Burglary in Other Buildings</td>\n",
       "      <td>0</td>\n",
       "      <td>2016</td>\n",
       "      <td>11</td>\n",
       "    </tr>\n",
       "    <tr>\n",
       "      <th>1</th>\n",
       "      <td>E01001646</td>\n",
       "      <td>Greenwich</td>\n",
       "      <td>Violence Against the Person</td>\n",
       "      <td>Other violence</td>\n",
       "      <td>0</td>\n",
       "      <td>2016</td>\n",
       "      <td>11</td>\n",
       "    </tr>\n",
       "    <tr>\n",
       "      <th>2</th>\n",
       "      <td>E01000677</td>\n",
       "      <td>Bromley</td>\n",
       "      <td>Violence Against the Person</td>\n",
       "      <td>Other violence</td>\n",
       "      <td>0</td>\n",
       "      <td>2015</td>\n",
       "      <td>5</td>\n",
       "    </tr>\n",
       "    <tr>\n",
       "      <th>3</th>\n",
       "      <td>E01003774</td>\n",
       "      <td>Redbridge</td>\n",
       "      <td>Burglary</td>\n",
       "      <td>Burglary in Other Buildings</td>\n",
       "      <td>0</td>\n",
       "      <td>2016</td>\n",
       "      <td>3</td>\n",
       "    </tr>\n",
       "    <tr>\n",
       "      <th>4</th>\n",
       "      <td>E01004563</td>\n",
       "      <td>Wandsworth</td>\n",
       "      <td>Robbery</td>\n",
       "      <td>Personal Property</td>\n",
       "      <td>0</td>\n",
       "      <td>2008</td>\n",
       "      <td>6</td>\n",
       "    </tr>\n",
       "    <tr>\n",
       "      <th>...</th>\n",
       "      <td>...</td>\n",
       "      <td>...</td>\n",
       "      <td>...</td>\n",
       "      <td>...</td>\n",
       "      <td>...</td>\n",
       "      <td>...</td>\n",
       "      <td>...</td>\n",
       "    </tr>\n",
       "    <tr>\n",
       "      <th>13490599</th>\n",
       "      <td>E01000504</td>\n",
       "      <td>Brent</td>\n",
       "      <td>Criminal Damage</td>\n",
       "      <td>Criminal Damage To Dwelling</td>\n",
       "      <td>0</td>\n",
       "      <td>2015</td>\n",
       "      <td>2</td>\n",
       "    </tr>\n",
       "    <tr>\n",
       "      <th>13490600</th>\n",
       "      <td>E01002504</td>\n",
       "      <td>Hillingdon</td>\n",
       "      <td>Robbery</td>\n",
       "      <td>Personal Property</td>\n",
       "      <td>1</td>\n",
       "      <td>2015</td>\n",
       "      <td>6</td>\n",
       "    </tr>\n",
       "    <tr>\n",
       "      <th>13490601</th>\n",
       "      <td>E01004165</td>\n",
       "      <td>Sutton</td>\n",
       "      <td>Burglary</td>\n",
       "      <td>Burglary in a Dwelling</td>\n",
       "      <td>0</td>\n",
       "      <td>2011</td>\n",
       "      <td>2</td>\n",
       "    </tr>\n",
       "    <tr>\n",
       "      <th>13490602</th>\n",
       "      <td>E01001134</td>\n",
       "      <td>Croydon</td>\n",
       "      <td>Robbery</td>\n",
       "      <td>Business Property</td>\n",
       "      <td>0</td>\n",
       "      <td>2011</td>\n",
       "      <td>5</td>\n",
       "    </tr>\n",
       "    <tr>\n",
       "      <th>13490603</th>\n",
       "      <td>E01003413</td>\n",
       "      <td>Merton</td>\n",
       "      <td>Violence Against the Person</td>\n",
       "      <td>Wounding/GBH</td>\n",
       "      <td>0</td>\n",
       "      <td>2015</td>\n",
       "      <td>6</td>\n",
       "    </tr>\n",
       "  </tbody>\n",
       "</table>\n",
       "<p>13490604 rows × 7 columns</p>\n",
       "</div>"
      ],
      "text/plain": [
       "          lsoa_code     borough               major_category  \\\n",
       "0         E01001116     Croydon                     Burglary   \n",
       "1         E01001646   Greenwich  Violence Against the Person   \n",
       "2         E01000677     Bromley  Violence Against the Person   \n",
       "3         E01003774   Redbridge                     Burglary   \n",
       "4         E01004563  Wandsworth                      Robbery   \n",
       "...             ...         ...                          ...   \n",
       "13490599  E01000504       Brent              Criminal Damage   \n",
       "13490600  E01002504  Hillingdon                      Robbery   \n",
       "13490601  E01004165      Sutton                     Burglary   \n",
       "13490602  E01001134     Croydon                      Robbery   \n",
       "13490603  E01003413      Merton  Violence Against the Person   \n",
       "\n",
       "                       minor_category  value  year  month  \n",
       "0         Burglary in Other Buildings      0  2016     11  \n",
       "1                      Other violence      0  2016     11  \n",
       "2                      Other violence      0  2015      5  \n",
       "3         Burglary in Other Buildings      0  2016      3  \n",
       "4                   Personal Property      0  2008      6  \n",
       "...                               ...    ...   ...    ...  \n",
       "13490599  Criminal Damage To Dwelling      0  2015      2  \n",
       "13490600            Personal Property      1  2015      6  \n",
       "13490601       Burglary in a Dwelling      0  2011      2  \n",
       "13490602            Business Property      0  2011      5  \n",
       "13490603                 Wounding/GBH      0  2015      6  \n",
       "\n",
       "[13490604 rows x 7 columns]"
      ]
     },
     "execution_count": 3,
     "metadata": {},
     "output_type": "execute_result"
    }
   ],
   "source": [
    "# Membaca Data\n",
    "df"
   ]
  },
  {
   "cell_type": "markdown",
   "id": "04792ed6",
   "metadata": {},
   "source": [
    "## Melihat Jumlah data dan Kolom"
   ]
  },
  {
   "cell_type": "code",
   "execution_count": 4,
   "id": "57b8108a",
   "metadata": {},
   "outputs": [
    {
     "data": {
      "text/plain": [
       "(13490604, 7)"
      ]
     },
     "execution_count": 4,
     "metadata": {},
     "output_type": "execute_result"
    }
   ],
   "source": [
    "df.shape"
   ]
  },
  {
   "cell_type": "markdown",
   "id": "385a39d2",
   "metadata": {},
   "source": [
    "Data ini berisi 13490604 baris dan 7 kolom"
   ]
  },
  {
   "cell_type": "markdown",
   "id": "78b2f05f",
   "metadata": {},
   "source": [
    "# Mengetahui Informasi Data"
   ]
  },
  {
   "cell_type": "markdown",
   "id": "eda00d47",
   "metadata": {},
   "source": [
    "## Menampilkan Tipe Data"
   ]
  },
  {
   "cell_type": "code",
   "execution_count": 5,
   "id": "b479ce4b",
   "metadata": {},
   "outputs": [
    {
     "name": "stdout",
     "output_type": "stream",
     "text": [
      "<class 'pandas.core.frame.DataFrame'>\n",
      "RangeIndex: 13490604 entries, 0 to 13490603\n",
      "Data columns (total 7 columns):\n",
      " #   Column          Dtype \n",
      "---  ------          ----- \n",
      " 0   lsoa_code       object\n",
      " 1   borough         object\n",
      " 2   major_category  object\n",
      " 3   minor_category  object\n",
      " 4   value           int64 \n",
      " 5   year            int64 \n",
      " 6   month           int64 \n",
      "dtypes: int64(3), object(4)\n",
      "memory usage: 720.5+ MB\n"
     ]
    }
   ],
   "source": [
    "df.info()"
   ]
  },
  {
   "cell_type": "markdown",
   "id": "b55dc96f",
   "metadata": {},
   "source": [
    "Dari data di atas terdapat 2 type data yaitu object(yang biasanya bertipe string) dan int64(integer)\n"
   ]
  },
  {
   "cell_type": "markdown",
   "id": "50d7e5b9",
   "metadata": {},
   "source": [
    "object: lsoa_code, borough, major_category, minor_category\n"
   ]
  },
  {
   "cell_type": "markdown",
   "id": "c2dfda83",
   "metadata": {},
   "source": [
    "integer: value, year, month"
   ]
  },
  {
   "cell_type": "markdown",
   "id": "14b3b820",
   "metadata": {},
   "source": [
    "* lsoa_code: ini mewakili area kepolisian\n",
    "* borough: borough london yang terkait dengan statistik\n",
    "* major_category: kategori kejahatan utama\n",
    "* minor_category: kategori kejahatan ringan\n",
    "* value: jumlah kejahatan untuk wilayah tertentu, pada bulan tertentu\n",
    "* year: tahun ringkasan statistik\n",
    "* month: bulan statistik ringkasan"
   ]
  },
  {
   "cell_type": "code",
   "execution_count": 6,
   "id": "1599d764",
   "metadata": {
    "scrolled": true
   },
   "outputs": [
    {
     "data": {
      "text/html": [
       "<div>\n",
       "<style scoped>\n",
       "    .dataframe tbody tr th:only-of-type {\n",
       "        vertical-align: middle;\n",
       "    }\n",
       "\n",
       "    .dataframe tbody tr th {\n",
       "        vertical-align: top;\n",
       "    }\n",
       "\n",
       "    .dataframe thead th {\n",
       "        text-align: right;\n",
       "    }\n",
       "</style>\n",
       "<table border=\"1\" class=\"dataframe\">\n",
       "  <thead>\n",
       "    <tr style=\"text-align: right;\">\n",
       "      <th></th>\n",
       "      <th>lsoa_code</th>\n",
       "      <th>borough</th>\n",
       "      <th>major_category</th>\n",
       "      <th>minor_category</th>\n",
       "      <th>value</th>\n",
       "      <th>year</th>\n",
       "      <th>month</th>\n",
       "    </tr>\n",
       "  </thead>\n",
       "  <tbody>\n",
       "    <tr>\n",
       "      <th>0</th>\n",
       "      <td>E01001116</td>\n",
       "      <td>Croydon</td>\n",
       "      <td>Burglary</td>\n",
       "      <td>Burglary in Other Buildings</td>\n",
       "      <td>0</td>\n",
       "      <td>2016</td>\n",
       "      <td>11</td>\n",
       "    </tr>\n",
       "    <tr>\n",
       "      <th>1</th>\n",
       "      <td>E01001646</td>\n",
       "      <td>Greenwich</td>\n",
       "      <td>Violence Against the Person</td>\n",
       "      <td>Other violence</td>\n",
       "      <td>0</td>\n",
       "      <td>2016</td>\n",
       "      <td>11</td>\n",
       "    </tr>\n",
       "    <tr>\n",
       "      <th>2</th>\n",
       "      <td>E01000677</td>\n",
       "      <td>Bromley</td>\n",
       "      <td>Violence Against the Person</td>\n",
       "      <td>Other violence</td>\n",
       "      <td>0</td>\n",
       "      <td>2015</td>\n",
       "      <td>5</td>\n",
       "    </tr>\n",
       "    <tr>\n",
       "      <th>3</th>\n",
       "      <td>E01003774</td>\n",
       "      <td>Redbridge</td>\n",
       "      <td>Burglary</td>\n",
       "      <td>Burglary in Other Buildings</td>\n",
       "      <td>0</td>\n",
       "      <td>2016</td>\n",
       "      <td>3</td>\n",
       "    </tr>\n",
       "    <tr>\n",
       "      <th>4</th>\n",
       "      <td>E01004563</td>\n",
       "      <td>Wandsworth</td>\n",
       "      <td>Robbery</td>\n",
       "      <td>Personal Property</td>\n",
       "      <td>0</td>\n",
       "      <td>2008</td>\n",
       "      <td>6</td>\n",
       "    </tr>\n",
       "    <tr>\n",
       "      <th>...</th>\n",
       "      <td>...</td>\n",
       "      <td>...</td>\n",
       "      <td>...</td>\n",
       "      <td>...</td>\n",
       "      <td>...</td>\n",
       "      <td>...</td>\n",
       "      <td>...</td>\n",
       "    </tr>\n",
       "    <tr>\n",
       "      <th>13490599</th>\n",
       "      <td>E01000504</td>\n",
       "      <td>Brent</td>\n",
       "      <td>Criminal Damage</td>\n",
       "      <td>Criminal Damage To Dwelling</td>\n",
       "      <td>0</td>\n",
       "      <td>2015</td>\n",
       "      <td>2</td>\n",
       "    </tr>\n",
       "    <tr>\n",
       "      <th>13490600</th>\n",
       "      <td>E01002504</td>\n",
       "      <td>Hillingdon</td>\n",
       "      <td>Robbery</td>\n",
       "      <td>Personal Property</td>\n",
       "      <td>1</td>\n",
       "      <td>2015</td>\n",
       "      <td>6</td>\n",
       "    </tr>\n",
       "    <tr>\n",
       "      <th>13490601</th>\n",
       "      <td>E01004165</td>\n",
       "      <td>Sutton</td>\n",
       "      <td>Burglary</td>\n",
       "      <td>Burglary in a Dwelling</td>\n",
       "      <td>0</td>\n",
       "      <td>2011</td>\n",
       "      <td>2</td>\n",
       "    </tr>\n",
       "    <tr>\n",
       "      <th>13490602</th>\n",
       "      <td>E01001134</td>\n",
       "      <td>Croydon</td>\n",
       "      <td>Robbery</td>\n",
       "      <td>Business Property</td>\n",
       "      <td>0</td>\n",
       "      <td>2011</td>\n",
       "      <td>5</td>\n",
       "    </tr>\n",
       "    <tr>\n",
       "      <th>13490603</th>\n",
       "      <td>E01003413</td>\n",
       "      <td>Merton</td>\n",
       "      <td>Violence Against the Person</td>\n",
       "      <td>Wounding/GBH</td>\n",
       "      <td>0</td>\n",
       "      <td>2015</td>\n",
       "      <td>6</td>\n",
       "    </tr>\n",
       "  </tbody>\n",
       "</table>\n",
       "<p>13490604 rows × 7 columns</p>\n",
       "</div>"
      ],
      "text/plain": [
       "          lsoa_code     borough               major_category  \\\n",
       "0         E01001116     Croydon                     Burglary   \n",
       "1         E01001646   Greenwich  Violence Against the Person   \n",
       "2         E01000677     Bromley  Violence Against the Person   \n",
       "3         E01003774   Redbridge                     Burglary   \n",
       "4         E01004563  Wandsworth                      Robbery   \n",
       "...             ...         ...                          ...   \n",
       "13490599  E01000504       Brent              Criminal Damage   \n",
       "13490600  E01002504  Hillingdon                      Robbery   \n",
       "13490601  E01004165      Sutton                     Burglary   \n",
       "13490602  E01001134     Croydon                      Robbery   \n",
       "13490603  E01003413      Merton  Violence Against the Person   \n",
       "\n",
       "                       minor_category  value  year  month  \n",
       "0         Burglary in Other Buildings      0  2016     11  \n",
       "1                      Other violence      0  2016     11  \n",
       "2                      Other violence      0  2015      5  \n",
       "3         Burglary in Other Buildings      0  2016      3  \n",
       "4                   Personal Property      0  2008      6  \n",
       "...                               ...    ...   ...    ...  \n",
       "13490599  Criminal Damage To Dwelling      0  2015      2  \n",
       "13490600            Personal Property      1  2015      6  \n",
       "13490601       Burglary in a Dwelling      0  2011      2  \n",
       "13490602            Business Property      0  2011      5  \n",
       "13490603                 Wounding/GBH      0  2015      6  \n",
       "\n",
       "[13490604 rows x 7 columns]"
      ]
     },
     "execution_count": 6,
     "metadata": {},
     "output_type": "execute_result"
    }
   ],
   "source": [
    "df"
   ]
  },
  {
   "cell_type": "markdown",
   "id": "8d65126a",
   "metadata": {},
   "source": [
    "Dari data tersebut dapat dilihat ternyata terdapat nilai 0 pada kolom value yang dimana apakah data tersebut benar bernilai 0 atau memang terdapat kesalahan dalam pengisian data. Sehingga saya memutuskan untuk hanya menampilkan record/baris yang memiliki value 1."
   ]
  },
  {
   "cell_type": "code",
   "execution_count": 7,
   "id": "f0b1c147",
   "metadata": {},
   "outputs": [
    {
     "data": {
      "text/html": [
       "<div>\n",
       "<style scoped>\n",
       "    .dataframe tbody tr th:only-of-type {\n",
       "        vertical-align: middle;\n",
       "    }\n",
       "\n",
       "    .dataframe tbody tr th {\n",
       "        vertical-align: top;\n",
       "    }\n",
       "\n",
       "    .dataframe thead th {\n",
       "        text-align: right;\n",
       "    }\n",
       "</style>\n",
       "<table border=\"1\" class=\"dataframe\">\n",
       "  <thead>\n",
       "    <tr style=\"text-align: right;\">\n",
       "      <th></th>\n",
       "      <th>lsoa_code</th>\n",
       "      <th>borough</th>\n",
       "      <th>major_category</th>\n",
       "      <th>minor_category</th>\n",
       "      <th>value</th>\n",
       "      <th>year</th>\n",
       "      <th>month</th>\n",
       "    </tr>\n",
       "  </thead>\n",
       "  <tbody>\n",
       "    <tr>\n",
       "      <th>9</th>\n",
       "      <td>E01004177</td>\n",
       "      <td>Sutton</td>\n",
       "      <td>Theft and Handling</td>\n",
       "      <td>Theft/Taking of Pedal Cycle</td>\n",
       "      <td>1</td>\n",
       "      <td>2016</td>\n",
       "      <td>8</td>\n",
       "    </tr>\n",
       "    <tr>\n",
       "      <th>16</th>\n",
       "      <td>E01000086</td>\n",
       "      <td>Barking and Dagenham</td>\n",
       "      <td>Theft and Handling</td>\n",
       "      <td>Other Theft Person</td>\n",
       "      <td>1</td>\n",
       "      <td>2009</td>\n",
       "      <td>5</td>\n",
       "    </tr>\n",
       "    <tr>\n",
       "      <th>25</th>\n",
       "      <td>E01001794</td>\n",
       "      <td>Hackney</td>\n",
       "      <td>Violence Against the Person</td>\n",
       "      <td>Harassment</td>\n",
       "      <td>1</td>\n",
       "      <td>2013</td>\n",
       "      <td>2</td>\n",
       "    </tr>\n",
       "    <tr>\n",
       "      <th>32</th>\n",
       "      <td>E01000733</td>\n",
       "      <td>Bromley</td>\n",
       "      <td>Criminal Damage</td>\n",
       "      <td>Criminal Damage To Motor Vehicle</td>\n",
       "      <td>1</td>\n",
       "      <td>2016</td>\n",
       "      <td>4</td>\n",
       "    </tr>\n",
       "    <tr>\n",
       "      <th>43</th>\n",
       "      <td>E01001193</td>\n",
       "      <td>Croydon</td>\n",
       "      <td>Theft and Handling</td>\n",
       "      <td>Other Theft</td>\n",
       "      <td>1</td>\n",
       "      <td>2014</td>\n",
       "      <td>5</td>\n",
       "    </tr>\n",
       "    <tr>\n",
       "      <th>...</th>\n",
       "      <td>...</td>\n",
       "      <td>...</td>\n",
       "      <td>...</td>\n",
       "      <td>...</td>\n",
       "      <td>...</td>\n",
       "      <td>...</td>\n",
       "      <td>...</td>\n",
       "    </tr>\n",
       "    <tr>\n",
       "      <th>13490566</th>\n",
       "      <td>E01000738</td>\n",
       "      <td>Bromley</td>\n",
       "      <td>Burglary</td>\n",
       "      <td>Burglary in a Dwelling</td>\n",
       "      <td>1</td>\n",
       "      <td>2009</td>\n",
       "      <td>1</td>\n",
       "    </tr>\n",
       "    <tr>\n",
       "      <th>13490572</th>\n",
       "      <td>E01033735</td>\n",
       "      <td>Greenwich</td>\n",
       "      <td>Criminal Damage</td>\n",
       "      <td>Criminal Damage To Motor Vehicle</td>\n",
       "      <td>1</td>\n",
       "      <td>2013</td>\n",
       "      <td>8</td>\n",
       "    </tr>\n",
       "    <tr>\n",
       "      <th>13490584</th>\n",
       "      <td>E01003301</td>\n",
       "      <td>Lewisham</td>\n",
       "      <td>Violence Against the Person</td>\n",
       "      <td>Assault with Injury</td>\n",
       "      <td>1</td>\n",
       "      <td>2015</td>\n",
       "      <td>10</td>\n",
       "    </tr>\n",
       "    <tr>\n",
       "      <th>13490590</th>\n",
       "      <td>E01001679</td>\n",
       "      <td>Greenwich</td>\n",
       "      <td>Theft and Handling</td>\n",
       "      <td>Theft/Taking Of Motor Vehicle</td>\n",
       "      <td>1</td>\n",
       "      <td>2012</td>\n",
       "      <td>4</td>\n",
       "    </tr>\n",
       "    <tr>\n",
       "      <th>13490600</th>\n",
       "      <td>E01002504</td>\n",
       "      <td>Hillingdon</td>\n",
       "      <td>Robbery</td>\n",
       "      <td>Personal Property</td>\n",
       "      <td>1</td>\n",
       "      <td>2015</td>\n",
       "      <td>6</td>\n",
       "    </tr>\n",
       "  </tbody>\n",
       "</table>\n",
       "<p>2141789 rows × 7 columns</p>\n",
       "</div>"
      ],
      "text/plain": [
       "          lsoa_code               borough               major_category  \\\n",
       "9         E01004177                Sutton           Theft and Handling   \n",
       "16        E01000086  Barking and Dagenham           Theft and Handling   \n",
       "25        E01001794               Hackney  Violence Against the Person   \n",
       "32        E01000733               Bromley              Criminal Damage   \n",
       "43        E01001193               Croydon           Theft and Handling   \n",
       "...             ...                   ...                          ...   \n",
       "13490566  E01000738               Bromley                     Burglary   \n",
       "13490572  E01033735             Greenwich              Criminal Damage   \n",
       "13490584  E01003301              Lewisham  Violence Against the Person   \n",
       "13490590  E01001679             Greenwich           Theft and Handling   \n",
       "13490600  E01002504            Hillingdon                      Robbery   \n",
       "\n",
       "                            minor_category  value  year  month  \n",
       "9              Theft/Taking of Pedal Cycle      1  2016      8  \n",
       "16                      Other Theft Person      1  2009      5  \n",
       "25                              Harassment      1  2013      2  \n",
       "32        Criminal Damage To Motor Vehicle      1  2016      4  \n",
       "43                             Other Theft      1  2014      5  \n",
       "...                                    ...    ...   ...    ...  \n",
       "13490566            Burglary in a Dwelling      1  2009      1  \n",
       "13490572  Criminal Damage To Motor Vehicle      1  2013      8  \n",
       "13490584               Assault with Injury      1  2015     10  \n",
       "13490590     Theft/Taking Of Motor Vehicle      1  2012      4  \n",
       "13490600                 Personal Property      1  2015      6  \n",
       "\n",
       "[2141789 rows x 7 columns]"
      ]
     },
     "execution_count": 7,
     "metadata": {},
     "output_type": "execute_result"
    }
   ],
   "source": [
    "df_not_null = df[df[\"value\"] == 1]\n",
    "df_not_null"
   ]
  },
  {
   "cell_type": "code",
   "execution_count": 8,
   "id": "868f6b8f",
   "metadata": {},
   "outputs": [
    {
     "data": {
      "text/html": [
       "<div>\n",
       "<style scoped>\n",
       "    .dataframe tbody tr th:only-of-type {\n",
       "        vertical-align: middle;\n",
       "    }\n",
       "\n",
       "    .dataframe tbody tr th {\n",
       "        vertical-align: top;\n",
       "    }\n",
       "\n",
       "    .dataframe thead th {\n",
       "        text-align: right;\n",
       "    }\n",
       "</style>\n",
       "<table border=\"1\" class=\"dataframe\">\n",
       "  <thead>\n",
       "    <tr style=\"text-align: right;\">\n",
       "      <th></th>\n",
       "      <th>lsoa_code</th>\n",
       "      <th>borough</th>\n",
       "      <th>major_category</th>\n",
       "      <th>minor_category</th>\n",
       "      <th>value</th>\n",
       "      <th>year</th>\n",
       "      <th>month</th>\n",
       "    </tr>\n",
       "  </thead>\n",
       "  <tbody>\n",
       "    <tr>\n",
       "      <th>9</th>\n",
       "      <td>E01004177</td>\n",
       "      <td>Sutton</td>\n",
       "      <td>Theft and Handling</td>\n",
       "      <td>Theft/Taking of Pedal Cycle</td>\n",
       "      <td>1</td>\n",
       "      <td>2016</td>\n",
       "      <td>8</td>\n",
       "    </tr>\n",
       "    <tr>\n",
       "      <th>16</th>\n",
       "      <td>E01000086</td>\n",
       "      <td>Barking and Dagenham</td>\n",
       "      <td>Theft and Handling</td>\n",
       "      <td>Other Theft Person</td>\n",
       "      <td>1</td>\n",
       "      <td>2009</td>\n",
       "      <td>5</td>\n",
       "    </tr>\n",
       "    <tr>\n",
       "      <th>25</th>\n",
       "      <td>E01001794</td>\n",
       "      <td>Hackney</td>\n",
       "      <td>Violence Against the Person</td>\n",
       "      <td>Harassment</td>\n",
       "      <td>1</td>\n",
       "      <td>2013</td>\n",
       "      <td>2</td>\n",
       "    </tr>\n",
       "    <tr>\n",
       "      <th>32</th>\n",
       "      <td>E01000733</td>\n",
       "      <td>Bromley</td>\n",
       "      <td>Criminal Damage</td>\n",
       "      <td>Criminal Damage To Motor Vehicle</td>\n",
       "      <td>1</td>\n",
       "      <td>2016</td>\n",
       "      <td>4</td>\n",
       "    </tr>\n",
       "    <tr>\n",
       "      <th>43</th>\n",
       "      <td>E01001193</td>\n",
       "      <td>Croydon</td>\n",
       "      <td>Theft and Handling</td>\n",
       "      <td>Other Theft</td>\n",
       "      <td>1</td>\n",
       "      <td>2014</td>\n",
       "      <td>5</td>\n",
       "    </tr>\n",
       "  </tbody>\n",
       "</table>\n",
       "</div>"
      ],
      "text/plain": [
       "    lsoa_code               borough               major_category  \\\n",
       "9   E01004177                Sutton           Theft and Handling   \n",
       "16  E01000086  Barking and Dagenham           Theft and Handling   \n",
       "25  E01001794               Hackney  Violence Against the Person   \n",
       "32  E01000733               Bromley              Criminal Damage   \n",
       "43  E01001193               Croydon           Theft and Handling   \n",
       "\n",
       "                      minor_category  value  year  month  \n",
       "9        Theft/Taking of Pedal Cycle      1  2016      8  \n",
       "16                Other Theft Person      1  2009      5  \n",
       "25                        Harassment      1  2013      2  \n",
       "32  Criminal Damage To Motor Vehicle      1  2016      4  \n",
       "43                       Other Theft      1  2014      5  "
      ]
     },
     "execution_count": 8,
     "metadata": {},
     "output_type": "execute_result"
    }
   ],
   "source": [
    "df_not_null.head(5)"
   ]
  },
  {
   "cell_type": "markdown",
   "id": "0d4e8583",
   "metadata": {},
   "source": [
    "Data di atas adalah tampilan **5 baris data teratas**"
   ]
  },
  {
   "cell_type": "code",
   "execution_count": 9,
   "id": "12048a9f",
   "metadata": {},
   "outputs": [
    {
     "data": {
      "text/html": [
       "<div>\n",
       "<style scoped>\n",
       "    .dataframe tbody tr th:only-of-type {\n",
       "        vertical-align: middle;\n",
       "    }\n",
       "\n",
       "    .dataframe tbody tr th {\n",
       "        vertical-align: top;\n",
       "    }\n",
       "\n",
       "    .dataframe thead th {\n",
       "        text-align: right;\n",
       "    }\n",
       "</style>\n",
       "<table border=\"1\" class=\"dataframe\">\n",
       "  <thead>\n",
       "    <tr style=\"text-align: right;\">\n",
       "      <th></th>\n",
       "      <th>lsoa_code</th>\n",
       "      <th>borough</th>\n",
       "      <th>major_category</th>\n",
       "      <th>minor_category</th>\n",
       "      <th>value</th>\n",
       "      <th>year</th>\n",
       "      <th>month</th>\n",
       "    </tr>\n",
       "  </thead>\n",
       "  <tbody>\n",
       "    <tr>\n",
       "      <th>13490566</th>\n",
       "      <td>E01000738</td>\n",
       "      <td>Bromley</td>\n",
       "      <td>Burglary</td>\n",
       "      <td>Burglary in a Dwelling</td>\n",
       "      <td>1</td>\n",
       "      <td>2009</td>\n",
       "      <td>1</td>\n",
       "    </tr>\n",
       "    <tr>\n",
       "      <th>13490572</th>\n",
       "      <td>E01033735</td>\n",
       "      <td>Greenwich</td>\n",
       "      <td>Criminal Damage</td>\n",
       "      <td>Criminal Damage To Motor Vehicle</td>\n",
       "      <td>1</td>\n",
       "      <td>2013</td>\n",
       "      <td>8</td>\n",
       "    </tr>\n",
       "    <tr>\n",
       "      <th>13490584</th>\n",
       "      <td>E01003301</td>\n",
       "      <td>Lewisham</td>\n",
       "      <td>Violence Against the Person</td>\n",
       "      <td>Assault with Injury</td>\n",
       "      <td>1</td>\n",
       "      <td>2015</td>\n",
       "      <td>10</td>\n",
       "    </tr>\n",
       "    <tr>\n",
       "      <th>13490590</th>\n",
       "      <td>E01001679</td>\n",
       "      <td>Greenwich</td>\n",
       "      <td>Theft and Handling</td>\n",
       "      <td>Theft/Taking Of Motor Vehicle</td>\n",
       "      <td>1</td>\n",
       "      <td>2012</td>\n",
       "      <td>4</td>\n",
       "    </tr>\n",
       "    <tr>\n",
       "      <th>13490600</th>\n",
       "      <td>E01002504</td>\n",
       "      <td>Hillingdon</td>\n",
       "      <td>Robbery</td>\n",
       "      <td>Personal Property</td>\n",
       "      <td>1</td>\n",
       "      <td>2015</td>\n",
       "      <td>6</td>\n",
       "    </tr>\n",
       "  </tbody>\n",
       "</table>\n",
       "</div>"
      ],
      "text/plain": [
       "          lsoa_code     borough               major_category  \\\n",
       "13490566  E01000738     Bromley                     Burglary   \n",
       "13490572  E01033735   Greenwich              Criminal Damage   \n",
       "13490584  E01003301    Lewisham  Violence Against the Person   \n",
       "13490590  E01001679   Greenwich           Theft and Handling   \n",
       "13490600  E01002504  Hillingdon                      Robbery   \n",
       "\n",
       "                            minor_category  value  year  month  \n",
       "13490566            Burglary in a Dwelling      1  2009      1  \n",
       "13490572  Criminal Damage To Motor Vehicle      1  2013      8  \n",
       "13490584               Assault with Injury      1  2015     10  \n",
       "13490590     Theft/Taking Of Motor Vehicle      1  2012      4  \n",
       "13490600                 Personal Property      1  2015      6  "
      ]
     },
     "execution_count": 9,
     "metadata": {},
     "output_type": "execute_result"
    }
   ],
   "source": [
    "df_not_null.tail()"
   ]
  },
  {
   "cell_type": "markdown",
   "id": "54c41aa3",
   "metadata": {},
   "source": [
    "Data di atas adalah tampilan **5 baris data terbawah**"
   ]
  },
  {
   "cell_type": "code",
   "execution_count": 10,
   "id": "80687ba3",
   "metadata": {},
   "outputs": [
    {
     "data": {
      "text/html": [
       "<div>\n",
       "<style scoped>\n",
       "    .dataframe tbody tr th:only-of-type {\n",
       "        vertical-align: middle;\n",
       "    }\n",
       "\n",
       "    .dataframe tbody tr th {\n",
       "        vertical-align: top;\n",
       "    }\n",
       "\n",
       "    .dataframe thead th {\n",
       "        text-align: right;\n",
       "    }\n",
       "</style>\n",
       "<table border=\"1\" class=\"dataframe\">\n",
       "  <thead>\n",
       "    <tr style=\"text-align: right;\">\n",
       "      <th></th>\n",
       "      <th>value</th>\n",
       "      <th>year</th>\n",
       "      <th>month</th>\n",
       "    </tr>\n",
       "  </thead>\n",
       "  <tbody>\n",
       "    <tr>\n",
       "      <th>count</th>\n",
       "      <td>2141789.0</td>\n",
       "      <td>2.141789e+06</td>\n",
       "      <td>2.141789e+06</td>\n",
       "    </tr>\n",
       "    <tr>\n",
       "      <th>mean</th>\n",
       "      <td>1.0</td>\n",
       "      <td>2.012015e+03</td>\n",
       "      <td>6.507797e+00</td>\n",
       "    </tr>\n",
       "    <tr>\n",
       "      <th>std</th>\n",
       "      <td>0.0</td>\n",
       "      <td>2.599081e+00</td>\n",
       "      <td>3.425987e+00</td>\n",
       "    </tr>\n",
       "    <tr>\n",
       "      <th>min</th>\n",
       "      <td>1.0</td>\n",
       "      <td>2.008000e+03</td>\n",
       "      <td>1.000000e+00</td>\n",
       "    </tr>\n",
       "    <tr>\n",
       "      <th>25%</th>\n",
       "      <td>1.0</td>\n",
       "      <td>2.010000e+03</td>\n",
       "      <td>4.000000e+00</td>\n",
       "    </tr>\n",
       "    <tr>\n",
       "      <th>50%</th>\n",
       "      <td>1.0</td>\n",
       "      <td>2.012000e+03</td>\n",
       "      <td>7.000000e+00</td>\n",
       "    </tr>\n",
       "    <tr>\n",
       "      <th>75%</th>\n",
       "      <td>1.0</td>\n",
       "      <td>2.014000e+03</td>\n",
       "      <td>9.000000e+00</td>\n",
       "    </tr>\n",
       "    <tr>\n",
       "      <th>max</th>\n",
       "      <td>1.0</td>\n",
       "      <td>2.016000e+03</td>\n",
       "      <td>1.200000e+01</td>\n",
       "    </tr>\n",
       "  </tbody>\n",
       "</table>\n",
       "</div>"
      ],
      "text/plain": [
       "           value          year         month\n",
       "count  2141789.0  2.141789e+06  2.141789e+06\n",
       "mean         1.0  2.012015e+03  6.507797e+00\n",
       "std          0.0  2.599081e+00  3.425987e+00\n",
       "min          1.0  2.008000e+03  1.000000e+00\n",
       "25%          1.0  2.010000e+03  4.000000e+00\n",
       "50%          1.0  2.012000e+03  7.000000e+00\n",
       "75%          1.0  2.014000e+03  9.000000e+00\n",
       "max          1.0  2.016000e+03  1.200000e+01"
      ]
     },
     "execution_count": 10,
     "metadata": {},
     "output_type": "execute_result"
    }
   ],
   "source": [
    "df_not_null.describe()"
   ]
  },
  {
   "cell_type": "markdown",
   "id": "b61cad22",
   "metadata": {},
   "source": [
    "data di atas merupakan tampilan deskriptif statistik data antara lain:\n",
    "* count\n",
    "* mean\n",
    "* std\n",
    "* min\n",
    "* 25%\n",
    "* 50%\n",
    "* 75%\n",
    "* max"
   ]
  },
  {
   "cell_type": "code",
   "execution_count": 11,
   "id": "d2bec41d",
   "metadata": {},
   "outputs": [
    {
     "data": {
      "text/html": [
       "<div>\n",
       "<style scoped>\n",
       "    .dataframe tbody tr th:only-of-type {\n",
       "        vertical-align: middle;\n",
       "    }\n",
       "\n",
       "    .dataframe tbody tr th {\n",
       "        vertical-align: top;\n",
       "    }\n",
       "\n",
       "    .dataframe thead th {\n",
       "        text-align: right;\n",
       "    }\n",
       "</style>\n",
       "<table border=\"1\" class=\"dataframe\">\n",
       "  <thead>\n",
       "    <tr style=\"text-align: right;\">\n",
       "      <th></th>\n",
       "      <th>lsoa_code</th>\n",
       "      <th>borough</th>\n",
       "      <th>major_category</th>\n",
       "      <th>minor_category</th>\n",
       "    </tr>\n",
       "  </thead>\n",
       "  <tbody>\n",
       "    <tr>\n",
       "      <th>count</th>\n",
       "      <td>2141789</td>\n",
       "      <td>2141789</td>\n",
       "      <td>2141789</td>\n",
       "      <td>2141789</td>\n",
       "    </tr>\n",
       "    <tr>\n",
       "      <th>unique</th>\n",
       "      <td>4835</td>\n",
       "      <td>33</td>\n",
       "      <td>9</td>\n",
       "      <td>32</td>\n",
       "    </tr>\n",
       "    <tr>\n",
       "      <th>top</th>\n",
       "      <td>E01001439</td>\n",
       "      <td>Croydon</td>\n",
       "      <td>Theft and Handling</td>\n",
       "      <td>Burglary in a Dwelling</td>\n",
       "    </tr>\n",
       "    <tr>\n",
       "      <th>freq</th>\n",
       "      <td>709</td>\n",
       "      <td>94786</td>\n",
       "      <td>662379</td>\n",
       "      <td>154845</td>\n",
       "    </tr>\n",
       "  </tbody>\n",
       "</table>\n",
       "</div>"
      ],
      "text/plain": [
       "        lsoa_code  borough      major_category          minor_category\n",
       "count     2141789  2141789             2141789                 2141789\n",
       "unique       4835       33                   9                      32\n",
       "top     E01001439  Croydon  Theft and Handling  Burglary in a Dwelling\n",
       "freq          709    94786              662379                  154845"
      ]
     },
     "execution_count": 11,
     "metadata": {},
     "output_type": "execute_result"
    }
   ],
   "source": [
    "df_not_null.describe(include=\"O\")"
   ]
  },
  {
   "cell_type": "markdown",
   "id": "3e32585d",
   "metadata": {},
   "source": [
    "# Data Cleansing"
   ]
  },
  {
   "cell_type": "markdown",
   "id": "99aecf30",
   "metadata": {},
   "source": [
    "## Checking for Missing Value"
   ]
  },
  {
   "cell_type": "code",
   "execution_count": 12,
   "id": "44254d6d",
   "metadata": {},
   "outputs": [
    {
     "data": {
      "text/plain": [
       "lsoa_code         0\n",
       "borough           0\n",
       "major_category    0\n",
       "minor_category    0\n",
       "value             0\n",
       "year              0\n",
       "month             0\n",
       "dtype: int64"
      ]
     },
     "execution_count": 12,
     "metadata": {},
     "output_type": "execute_result"
    }
   ],
   "source": [
    "df_not_null.isna().sum()"
   ]
  },
  {
   "cell_type": "markdown",
   "id": "f172a9fb",
   "metadata": {},
   "source": [
    "Data di datas adalah pengecekan missing value, dalam kasus ini **tidak ada**"
   ]
  },
  {
   "cell_type": "markdown",
   "id": "48fb8c5e",
   "metadata": {},
   "source": [
    "## Checking for Duplicated Data"
   ]
  },
  {
   "cell_type": "code",
   "execution_count": 13,
   "id": "c88c7e98",
   "metadata": {},
   "outputs": [
    {
     "data": {
      "text/plain": [
       "0"
      ]
     },
     "execution_count": 13,
     "metadata": {},
     "output_type": "execute_result"
    }
   ],
   "source": [
    "df_not_null.duplicated().sum()"
   ]
  },
  {
   "cell_type": "markdown",
   "id": "f45ee050",
   "metadata": {},
   "source": [
    "Data di datas adalah pengecekan duplicate data, dalam kasus ini **tidak ada**"
   ]
  },
  {
   "cell_type": "code",
   "execution_count": 14,
   "id": "281e6c92",
   "metadata": {},
   "outputs": [
    {
     "data": {
      "text/html": [
       "<div>\n",
       "<style scoped>\n",
       "    .dataframe tbody tr th:only-of-type {\n",
       "        vertical-align: middle;\n",
       "    }\n",
       "\n",
       "    .dataframe tbody tr th {\n",
       "        vertical-align: top;\n",
       "    }\n",
       "\n",
       "    .dataframe thead th {\n",
       "        text-align: right;\n",
       "    }\n",
       "</style>\n",
       "<table border=\"1\" class=\"dataframe\">\n",
       "  <thead>\n",
       "    <tr style=\"text-align: right;\">\n",
       "      <th></th>\n",
       "      <th>lsoa_code</th>\n",
       "      <th>borough</th>\n",
       "      <th>major_category</th>\n",
       "      <th>minor_category</th>\n",
       "      <th>value</th>\n",
       "      <th>year</th>\n",
       "      <th>month</th>\n",
       "    </tr>\n",
       "  </thead>\n",
       "  <tbody>\n",
       "    <tr>\n",
       "      <th>9</th>\n",
       "      <td>E01004177</td>\n",
       "      <td>Sutton</td>\n",
       "      <td>Theft and Handling</td>\n",
       "      <td>Theft/Taking of Pedal Cycle</td>\n",
       "      <td>1</td>\n",
       "      <td>2016</td>\n",
       "      <td>8</td>\n",
       "    </tr>\n",
       "    <tr>\n",
       "      <th>16</th>\n",
       "      <td>E01000086</td>\n",
       "      <td>Barking and Dagenham</td>\n",
       "      <td>Theft and Handling</td>\n",
       "      <td>Other Theft Person</td>\n",
       "      <td>1</td>\n",
       "      <td>2009</td>\n",
       "      <td>5</td>\n",
       "    </tr>\n",
       "    <tr>\n",
       "      <th>25</th>\n",
       "      <td>E01001794</td>\n",
       "      <td>Hackney</td>\n",
       "      <td>Violence Against the Person</td>\n",
       "      <td>Harassment</td>\n",
       "      <td>1</td>\n",
       "      <td>2013</td>\n",
       "      <td>2</td>\n",
       "    </tr>\n",
       "    <tr>\n",
       "      <th>32</th>\n",
       "      <td>E01000733</td>\n",
       "      <td>Bromley</td>\n",
       "      <td>Criminal Damage</td>\n",
       "      <td>Criminal Damage To Motor Vehicle</td>\n",
       "      <td>1</td>\n",
       "      <td>2016</td>\n",
       "      <td>4</td>\n",
       "    </tr>\n",
       "    <tr>\n",
       "      <th>43</th>\n",
       "      <td>E01001193</td>\n",
       "      <td>Croydon</td>\n",
       "      <td>Theft and Handling</td>\n",
       "      <td>Other Theft</td>\n",
       "      <td>1</td>\n",
       "      <td>2014</td>\n",
       "      <td>5</td>\n",
       "    </tr>\n",
       "    <tr>\n",
       "      <th>...</th>\n",
       "      <td>...</td>\n",
       "      <td>...</td>\n",
       "      <td>...</td>\n",
       "      <td>...</td>\n",
       "      <td>...</td>\n",
       "      <td>...</td>\n",
       "      <td>...</td>\n",
       "    </tr>\n",
       "    <tr>\n",
       "      <th>13490566</th>\n",
       "      <td>E01000738</td>\n",
       "      <td>Bromley</td>\n",
       "      <td>Burglary</td>\n",
       "      <td>Burglary in a Dwelling</td>\n",
       "      <td>1</td>\n",
       "      <td>2009</td>\n",
       "      <td>1</td>\n",
       "    </tr>\n",
       "    <tr>\n",
       "      <th>13490572</th>\n",
       "      <td>E01033735</td>\n",
       "      <td>Greenwich</td>\n",
       "      <td>Criminal Damage</td>\n",
       "      <td>Criminal Damage To Motor Vehicle</td>\n",
       "      <td>1</td>\n",
       "      <td>2013</td>\n",
       "      <td>8</td>\n",
       "    </tr>\n",
       "    <tr>\n",
       "      <th>13490584</th>\n",
       "      <td>E01003301</td>\n",
       "      <td>Lewisham</td>\n",
       "      <td>Violence Against the Person</td>\n",
       "      <td>Assault with Injury</td>\n",
       "      <td>1</td>\n",
       "      <td>2015</td>\n",
       "      <td>10</td>\n",
       "    </tr>\n",
       "    <tr>\n",
       "      <th>13490590</th>\n",
       "      <td>E01001679</td>\n",
       "      <td>Greenwich</td>\n",
       "      <td>Theft and Handling</td>\n",
       "      <td>Theft/Taking Of Motor Vehicle</td>\n",
       "      <td>1</td>\n",
       "      <td>2012</td>\n",
       "      <td>4</td>\n",
       "    </tr>\n",
       "    <tr>\n",
       "      <th>13490600</th>\n",
       "      <td>E01002504</td>\n",
       "      <td>Hillingdon</td>\n",
       "      <td>Robbery</td>\n",
       "      <td>Personal Property</td>\n",
       "      <td>1</td>\n",
       "      <td>2015</td>\n",
       "      <td>6</td>\n",
       "    </tr>\n",
       "  </tbody>\n",
       "</table>\n",
       "<p>2141789 rows × 7 columns</p>\n",
       "</div>"
      ],
      "text/plain": [
       "          lsoa_code               borough               major_category  \\\n",
       "9         E01004177                Sutton           Theft and Handling   \n",
       "16        E01000086  Barking and Dagenham           Theft and Handling   \n",
       "25        E01001794               Hackney  Violence Against the Person   \n",
       "32        E01000733               Bromley              Criminal Damage   \n",
       "43        E01001193               Croydon           Theft and Handling   \n",
       "...             ...                   ...                          ...   \n",
       "13490566  E01000738               Bromley                     Burglary   \n",
       "13490572  E01033735             Greenwich              Criminal Damage   \n",
       "13490584  E01003301              Lewisham  Violence Against the Person   \n",
       "13490590  E01001679             Greenwich           Theft and Handling   \n",
       "13490600  E01002504            Hillingdon                      Robbery   \n",
       "\n",
       "                            minor_category  value  year  month  \n",
       "9              Theft/Taking of Pedal Cycle      1  2016      8  \n",
       "16                      Other Theft Person      1  2009      5  \n",
       "25                              Harassment      1  2013      2  \n",
       "32        Criminal Damage To Motor Vehicle      1  2016      4  \n",
       "43                             Other Theft      1  2014      5  \n",
       "...                                    ...    ...   ...    ...  \n",
       "13490566            Burglary in a Dwelling      1  2009      1  \n",
       "13490572  Criminal Damage To Motor Vehicle      1  2013      8  \n",
       "13490584               Assault with Injury      1  2015     10  \n",
       "13490590     Theft/Taking Of Motor Vehicle      1  2012      4  \n",
       "13490600                 Personal Property      1  2015      6  \n",
       "\n",
       "[2141789 rows x 7 columns]"
      ]
     },
     "execution_count": 14,
     "metadata": {},
     "output_type": "execute_result"
    }
   ],
   "source": [
    "df_not_null"
   ]
  },
  {
   "cell_type": "markdown",
   "id": "046ae53f",
   "metadata": {},
   "source": [
    "# Data Exploration"
   ]
  },
  {
   "cell_type": "code",
   "execution_count": 15,
   "id": "742778bb",
   "metadata": {
    "scrolled": true
   },
   "outputs": [
    {
     "data": {
      "text/plain": [
       "Croydon                   94786\n",
       "Lambeth                   92277\n",
       "Ealing                    87985\n",
       "Southwark                 85661\n",
       "Barnet                    83693\n",
       "Newham                    82695\n",
       "Lewisham                  81911\n",
       "Brent                     80637\n",
       "Enfield                   77162\n",
       "Wandsworth                77134\n",
       "Bromley                   73163\n",
       "Waltham Forest            71396\n",
       "Tower Hamlets             71257\n",
       "Hackney                   71207\n",
       "Haringey                  70662\n",
       "Hillingdon                68604\n",
       "Redbridge                 67682\n",
       "Greenwich                 66340\n",
       "Hounslow                  66061\n",
       "Islington                 65069\n",
       "Camden                    63721\n",
       "Westminster               57206\n",
       "Hammersmith and Fulham    55175\n",
       "Havering                  55102\n",
       "Barking and Dagenham      54501\n",
       "Bexley                    51715\n",
       "Harrow                    50786\n",
       "Merton                    50453\n",
       "Kensington and Chelsea    47735\n",
       "Sutton                    43870\n",
       "Richmond upon Thames      42952\n",
       "Kingston upon Thames      32756\n",
       "City of London              435\n",
       "Name: borough, dtype: int64"
      ]
     },
     "execution_count": 15,
     "metadata": {},
     "output_type": "execute_result"
    }
   ],
   "source": [
    "df_not_null['borough'].value_counts()"
   ]
  },
  {
   "cell_type": "code",
   "execution_count": 16,
   "id": "8c75eea5",
   "metadata": {},
   "outputs": [
    {
     "data": {
      "text/plain": [
       "Theft and Handling             662379\n",
       "Violence Against the Person    544226\n",
       "Criminal Damage                353769\n",
       "Burglary                       263035\n",
       "Drugs                          138878\n",
       "Robbery                        110785\n",
       "Other Notifiable Offences       65925\n",
       "Fraud or Forgery                 1835\n",
       "Sexual Offences                   957\n",
       "Name: major_category, dtype: int64"
      ]
     },
     "execution_count": 16,
     "metadata": {},
     "output_type": "execute_result"
    }
   ],
   "source": [
    "df_not_null['major_category'].value_counts()"
   ]
  },
  {
   "cell_type": "code",
   "execution_count": 17,
   "id": "eae8f621",
   "metadata": {},
   "outputs": [
    {
     "data": {
      "text/plain": [
       "Burglary in a Dwelling                    154845\n",
       "Theft From Motor Vehicle                  151633\n",
       "Assault with Injury                       138647\n",
       "Other Theft                               136743\n",
       "Common Assault                            135116\n",
       "Harassment                                135016\n",
       "Criminal Damage To Motor Vehicle          124756\n",
       "Theft/Taking Of Motor Vehicle             122568\n",
       "Possession Of Drugs                       112104\n",
       "Burglary in Other Buildings               108190\n",
       "Criminal Damage To Dwelling                96217\n",
       "Personal Property                          92874\n",
       "Other Criminal Damage                      88923\n",
       "Other Theft Person                         77223\n",
       "Theft/Taking of Pedal Cycle                72838\n",
       "Wounding/GBH                               68261\n",
       "Other Notifiable                           61176\n",
       "Theft From Shops                           45207\n",
       "Criminal Damage To Other Building          43873\n",
       "Motor Vehicle Interference & Tampering     42866\n",
       "Other violence                             37485\n",
       "Offensive Weapon                           28809\n",
       "Drug Trafficking                           24058\n",
       "Business Property                          17911\n",
       "Handling Stolen Goods                      13301\n",
       "Going Equipped                              4749\n",
       "Other Drugs                                 2716\n",
       "Counted per Victim                           983\n",
       "Murder                                       892\n",
       "Other Fraud & Forgery                        852\n",
       "Other Sexual                                 713\n",
       "Rape                                         244\n",
       "Name: minor_category, dtype: int64"
      ]
     },
     "execution_count": 17,
     "metadata": {},
     "output_type": "execute_result"
    }
   ],
   "source": [
    "df_not_null['minor_category'].value_counts()"
   ]
  },
  {
   "cell_type": "code",
   "execution_count": 18,
   "id": "6dce8228",
   "metadata": {
    "scrolled": true
   },
   "outputs": [
    {
     "data": {
      "text/plain": [
       "2016    246170\n",
       "2015    241347\n",
       "2008    240966\n",
       "2009    238097\n",
       "2014    237515\n",
       "2010    235513\n",
       "2011    234747\n",
       "2012    234714\n",
       "2013    232720\n",
       "Name: year, dtype: int64"
      ]
     },
     "execution_count": 18,
     "metadata": {},
     "output_type": "execute_result"
    }
   ],
   "source": [
    "df_not_null['year'].value_counts()"
   ]
  },
  {
   "cell_type": "code",
   "execution_count": 19,
   "id": "648bfd47",
   "metadata": {},
   "outputs": [
    {
     "data": {
      "text/plain": [
       "7     183417\n",
       "5     182511\n",
       "6     182374\n",
       "10    182276\n",
       "3     179212\n",
       "9     178645\n",
       "11    178348\n",
       "8     178316\n",
       "4     178181\n",
       "1     174978\n",
       "2     171902\n",
       "12    171629\n",
       "Name: month, dtype: int64"
      ]
     },
     "execution_count": 19,
     "metadata": {},
     "output_type": "execute_result"
    }
   ],
   "source": [
    "df_not_null['month'].value_counts()"
   ]
  },
  {
   "cell_type": "markdown",
   "id": "23301640",
   "metadata": {},
   "source": [
    "**Keterangan**\n",
    "Dari hasil exploring data di atas dapat diambil informasi sebagai berikut:\n",
    "* Pada kolom <b>borough</b>, kejahatan terendah berada di \"City of London\" dan tingkat kejahatan tertinggi berada di \"Lambeth\"\n",
    "* Pada kolom <b>major_category</b> jenis kategori utama kejahatan terendah merupakan kejahatan \"Sexual Offences\" dan yang tertinggi merupakan kejahatan \"Theft and Handling\"\n",
    "* Pada kolom <b>minor_category</b> jenis kategori minor kejahatan terendah merupakan kejahatan \"Rape\" dan headline kejatahan tertinggi merupakan kejahatan \"Other Theft\"\n",
    "* Pada kolom <b>year</b>, kejahatan tertinggi berada di tahun 2016 dan kejahatan terendah berada di 2013\n",
    "* Pada kolom <b>Month</b>, kejahatan tertinggi berada di bulan ke - 7 (Juli) dan kejahatan terendah berada di bulan ke - 2 (Februari)"
   ]
  },
  {
   "cell_type": "markdown",
   "id": "41d92eb2",
   "metadata": {},
   "source": [
    "# Data Visualization"
   ]
  },
  {
   "cell_type": "markdown",
   "id": "84422e53",
   "metadata": {},
   "source": [
    "**Hipotesis**\n",
    "1. Bagaimana rangking 5 teratas wialyah dengan tindak kejahatan tertinggi pada kurun waktu tahun 2008-2016?\n",
    "2. Rata-rata jenis kejahatan utama(major) yang terjadi periode 2008-2016?\n",
    "3. Perbandingan antara Robbery dan Drugs di London Tahun 2008 - 2016?"
   ]
  },
  {
   "cell_type": "markdown",
   "id": "d2a3e4ff",
   "metadata": {},
   "source": [
    "## Bagaimana rangking 5 teratas wilayah dengan tindak kejahatan tertinggi pada kurun waktu tahun 2008-2016 dan julmah tindak kejahatannya?"
   ]
  },
  {
   "cell_type": "code",
   "execution_count": 20,
   "id": "e135fc3c",
   "metadata": {},
   "outputs": [
    {
     "data": {
      "text/html": [
       "<div>\n",
       "<style scoped>\n",
       "    .dataframe tbody tr th:only-of-type {\n",
       "        vertical-align: middle;\n",
       "    }\n",
       "\n",
       "    .dataframe tbody tr th {\n",
       "        vertical-align: top;\n",
       "    }\n",
       "\n",
       "    .dataframe thead th {\n",
       "        text-align: right;\n",
       "    }\n",
       "</style>\n",
       "<table border=\"1\" class=\"dataframe\">\n",
       "  <thead>\n",
       "    <tr style=\"text-align: right;\">\n",
       "      <th></th>\n",
       "      <th>lsoa_code</th>\n",
       "      <th>borough</th>\n",
       "      <th>major_category</th>\n",
       "      <th>minor_category</th>\n",
       "      <th>value</th>\n",
       "      <th>year</th>\n",
       "      <th>month</th>\n",
       "    </tr>\n",
       "  </thead>\n",
       "  <tbody>\n",
       "    <tr>\n",
       "      <th>9</th>\n",
       "      <td>E01004177</td>\n",
       "      <td>Sutton</td>\n",
       "      <td>Theft and Handling</td>\n",
       "      <td>Theft/Taking of Pedal Cycle</td>\n",
       "      <td>1</td>\n",
       "      <td>2016</td>\n",
       "      <td>8</td>\n",
       "    </tr>\n",
       "    <tr>\n",
       "      <th>16</th>\n",
       "      <td>E01000086</td>\n",
       "      <td>Barking and Dagenham</td>\n",
       "      <td>Theft and Handling</td>\n",
       "      <td>Other Theft Person</td>\n",
       "      <td>1</td>\n",
       "      <td>2009</td>\n",
       "      <td>5</td>\n",
       "    </tr>\n",
       "    <tr>\n",
       "      <th>25</th>\n",
       "      <td>E01001794</td>\n",
       "      <td>Hackney</td>\n",
       "      <td>Violence Against the Person</td>\n",
       "      <td>Harassment</td>\n",
       "      <td>1</td>\n",
       "      <td>2013</td>\n",
       "      <td>2</td>\n",
       "    </tr>\n",
       "    <tr>\n",
       "      <th>32</th>\n",
       "      <td>E01000733</td>\n",
       "      <td>Bromley</td>\n",
       "      <td>Criminal Damage</td>\n",
       "      <td>Criminal Damage To Motor Vehicle</td>\n",
       "      <td>1</td>\n",
       "      <td>2016</td>\n",
       "      <td>4</td>\n",
       "    </tr>\n",
       "    <tr>\n",
       "      <th>43</th>\n",
       "      <td>E01001193</td>\n",
       "      <td>Croydon</td>\n",
       "      <td>Theft and Handling</td>\n",
       "      <td>Other Theft</td>\n",
       "      <td>1</td>\n",
       "      <td>2014</td>\n",
       "      <td>5</td>\n",
       "    </tr>\n",
       "    <tr>\n",
       "      <th>...</th>\n",
       "      <td>...</td>\n",
       "      <td>...</td>\n",
       "      <td>...</td>\n",
       "      <td>...</td>\n",
       "      <td>...</td>\n",
       "      <td>...</td>\n",
       "      <td>...</td>\n",
       "    </tr>\n",
       "    <tr>\n",
       "      <th>13490566</th>\n",
       "      <td>E01000738</td>\n",
       "      <td>Bromley</td>\n",
       "      <td>Burglary</td>\n",
       "      <td>Burglary in a Dwelling</td>\n",
       "      <td>1</td>\n",
       "      <td>2009</td>\n",
       "      <td>1</td>\n",
       "    </tr>\n",
       "    <tr>\n",
       "      <th>13490572</th>\n",
       "      <td>E01033735</td>\n",
       "      <td>Greenwich</td>\n",
       "      <td>Criminal Damage</td>\n",
       "      <td>Criminal Damage To Motor Vehicle</td>\n",
       "      <td>1</td>\n",
       "      <td>2013</td>\n",
       "      <td>8</td>\n",
       "    </tr>\n",
       "    <tr>\n",
       "      <th>13490584</th>\n",
       "      <td>E01003301</td>\n",
       "      <td>Lewisham</td>\n",
       "      <td>Violence Against the Person</td>\n",
       "      <td>Assault with Injury</td>\n",
       "      <td>1</td>\n",
       "      <td>2015</td>\n",
       "      <td>10</td>\n",
       "    </tr>\n",
       "    <tr>\n",
       "      <th>13490590</th>\n",
       "      <td>E01001679</td>\n",
       "      <td>Greenwich</td>\n",
       "      <td>Theft and Handling</td>\n",
       "      <td>Theft/Taking Of Motor Vehicle</td>\n",
       "      <td>1</td>\n",
       "      <td>2012</td>\n",
       "      <td>4</td>\n",
       "    </tr>\n",
       "    <tr>\n",
       "      <th>13490600</th>\n",
       "      <td>E01002504</td>\n",
       "      <td>Hillingdon</td>\n",
       "      <td>Robbery</td>\n",
       "      <td>Personal Property</td>\n",
       "      <td>1</td>\n",
       "      <td>2015</td>\n",
       "      <td>6</td>\n",
       "    </tr>\n",
       "  </tbody>\n",
       "</table>\n",
       "<p>2141789 rows × 7 columns</p>\n",
       "</div>"
      ],
      "text/plain": [
       "          lsoa_code               borough               major_category  \\\n",
       "9         E01004177                Sutton           Theft and Handling   \n",
       "16        E01000086  Barking and Dagenham           Theft and Handling   \n",
       "25        E01001794               Hackney  Violence Against the Person   \n",
       "32        E01000733               Bromley              Criminal Damage   \n",
       "43        E01001193               Croydon           Theft and Handling   \n",
       "...             ...                   ...                          ...   \n",
       "13490566  E01000738               Bromley                     Burglary   \n",
       "13490572  E01033735             Greenwich              Criminal Damage   \n",
       "13490584  E01003301              Lewisham  Violence Against the Person   \n",
       "13490590  E01001679             Greenwich           Theft and Handling   \n",
       "13490600  E01002504            Hillingdon                      Robbery   \n",
       "\n",
       "                            minor_category  value  year  month  \n",
       "9              Theft/Taking of Pedal Cycle      1  2016      8  \n",
       "16                      Other Theft Person      1  2009      5  \n",
       "25                              Harassment      1  2013      2  \n",
       "32        Criminal Damage To Motor Vehicle      1  2016      4  \n",
       "43                             Other Theft      1  2014      5  \n",
       "...                                    ...    ...   ...    ...  \n",
       "13490566            Burglary in a Dwelling      1  2009      1  \n",
       "13490572  Criminal Damage To Motor Vehicle      1  2013      8  \n",
       "13490584               Assault with Injury      1  2015     10  \n",
       "13490590     Theft/Taking Of Motor Vehicle      1  2012      4  \n",
       "13490600                 Personal Property      1  2015      6  \n",
       "\n",
       "[2141789 rows x 7 columns]"
      ]
     },
     "execution_count": 20,
     "metadata": {},
     "output_type": "execute_result"
    }
   ],
   "source": [
    "df = df_not_null\n",
    "df"
   ]
  },
  {
   "cell_type": "code",
   "execution_count": 21,
   "id": "d22e5061",
   "metadata": {},
   "outputs": [
    {
     "data": {
      "text/plain": [
       "Croydon      94786\n",
       "Lambeth      92277\n",
       "Ealing       87985\n",
       "Southwark    85661\n",
       "Barnet       83693\n",
       "Name: borough, dtype: int64"
      ]
     },
     "execution_count": 21,
     "metadata": {},
     "output_type": "execute_result"
    }
   ],
   "source": [
    "df['borough'].value_counts().head(5)"
   ]
  },
  {
   "cell_type": "code",
   "execution_count": 22,
   "id": "e20c9925",
   "metadata": {},
   "outputs": [
    {
     "data": {
      "text/plain": [
       "borough               year\n",
       "Barking and Dagenham  2008    6087\n",
       "                      2009    6153\n",
       "                      2010    6073\n",
       "                      2011    5946\n",
       "                      2012    5857\n",
       "                              ... \n",
       "Westminster           2012    6479\n",
       "                      2013    6472\n",
       "                      2014    6883\n",
       "                      2015    6835\n",
       "                      2016    6899\n",
       "Name: value, Length: 294, dtype: int64"
      ]
     },
     "execution_count": 22,
     "metadata": {},
     "output_type": "execute_result"
    }
   ],
   "source": [
    "bor = df.groupby(['borough', 'year'])['value'].sum()\n",
    "bor"
   ]
  },
  {
   "cell_type": "code",
   "execution_count": 23,
   "id": "4ed5d5bd",
   "metadata": {},
   "outputs": [
    {
     "data": {
      "text/plain": [
       "year\n",
       "2008    6087\n",
       "2009    6153\n",
       "2010    6073\n",
       "2011    5946\n",
       "2012    5857\n",
       "2013    5994\n",
       "2014    6085\n",
       "2015    6028\n",
       "2016    6278\n",
       "Name: value, dtype: int64"
      ]
     },
     "execution_count": 23,
     "metadata": {},
     "output_type": "execute_result"
    }
   ],
   "source": [
    "Cro = bor['Barking and Dagenham']\n",
    "Cro"
   ]
  },
  {
   "cell_type": "code",
   "execution_count": 24,
   "id": "b45a4b9a",
   "metadata": {},
   "outputs": [
    {
     "data": {
      "text/plain": [
       "year\n",
       "2008    9349\n",
       "2009    9486\n",
       "2010    9259\n",
       "2011    9246\n",
       "2012    8776\n",
       "2013    8989\n",
       "2014    9291\n",
       "2015    9620\n",
       "2016    9677\n",
       "Name: value, dtype: int64"
      ]
     },
     "execution_count": 24,
     "metadata": {},
     "output_type": "execute_result"
    }
   ],
   "source": [
    "Bar = bor['Barnet']\n",
    "Bar"
   ]
  },
  {
   "cell_type": "code",
   "execution_count": 25,
   "id": "af5c8d7d",
   "metadata": {},
   "outputs": [
    {
     "data": {
      "text/plain": [
       "year\n",
       "2008     9889\n",
       "2009     9962\n",
       "2010    10203\n",
       "2011     9852\n",
       "2012     9815\n",
       "2013     9394\n",
       "2014     9449\n",
       "2015     9514\n",
       "2016     9907\n",
       "Name: value, dtype: int64"
      ]
     },
     "execution_count": 25,
     "metadata": {},
     "output_type": "execute_result"
    }
   ],
   "source": [
    "Eal = bor['Ealing']\n",
    "Eal "
   ]
  },
  {
   "cell_type": "code",
   "execution_count": 26,
   "id": "9aaf303c",
   "metadata": {},
   "outputs": [
    {
     "data": {
      "text/plain": [
       "year\n",
       "2008    8800\n",
       "2009    8506\n",
       "2010    7904\n",
       "2011    8205\n",
       "2012    7869\n",
       "2013    7821\n",
       "2014    7891\n",
       "2015    8072\n",
       "2016    8095\n",
       "Name: value, dtype: int64"
      ]
     },
     "execution_count": 26,
     "metadata": {},
     "output_type": "execute_result"
    }
   ],
   "source": [
    "Bro = bor['Bromley']\n",
    "Bro"
   ]
  },
  {
   "cell_type": "code",
   "execution_count": 27,
   "id": "15e5ab48",
   "metadata": {},
   "outputs": [
    {
     "data": {
      "text/plain": [
       "year\n",
       "2008    10473\n",
       "2009    10268\n",
       "2010    10213\n",
       "2011    10152\n",
       "2012     9946\n",
       "2013     9927\n",
       "2014    10257\n",
       "2015    10397\n",
       "2016    10644\n",
       "Name: value, dtype: int64"
      ]
     },
     "execution_count": 27,
     "metadata": {},
     "output_type": "execute_result"
    }
   ],
   "source": [
    "Lam = bor['Lambeth']\n",
    "Lam"
   ]
  },
  {
   "cell_type": "code",
   "execution_count": 28,
   "id": "8ef04691",
   "metadata": {},
   "outputs": [
    {
     "data": {
      "text/html": [
       "<div>\n",
       "<style scoped>\n",
       "    .dataframe tbody tr th:only-of-type {\n",
       "        vertical-align: middle;\n",
       "    }\n",
       "\n",
       "    .dataframe tbody tr th {\n",
       "        vertical-align: top;\n",
       "    }\n",
       "\n",
       "    .dataframe thead th {\n",
       "        text-align: right;\n",
       "    }\n",
       "</style>\n",
       "<table border=\"1\" class=\"dataframe\">\n",
       "  <thead>\n",
       "    <tr style=\"text-align: right;\">\n",
       "      <th></th>\n",
       "      <th>value</th>\n",
       "    </tr>\n",
       "    <tr>\n",
       "      <th>year</th>\n",
       "      <th></th>\n",
       "    </tr>\n",
       "  </thead>\n",
       "  <tbody>\n",
       "    <tr>\n",
       "      <th>2008</th>\n",
       "      <td>6087</td>\n",
       "    </tr>\n",
       "    <tr>\n",
       "      <th>2009</th>\n",
       "      <td>6153</td>\n",
       "    </tr>\n",
       "    <tr>\n",
       "      <th>2010</th>\n",
       "      <td>6073</td>\n",
       "    </tr>\n",
       "    <tr>\n",
       "      <th>2011</th>\n",
       "      <td>5946</td>\n",
       "    </tr>\n",
       "    <tr>\n",
       "      <th>2012</th>\n",
       "      <td>5857</td>\n",
       "    </tr>\n",
       "    <tr>\n",
       "      <th>2013</th>\n",
       "      <td>5994</td>\n",
       "    </tr>\n",
       "    <tr>\n",
       "      <th>2014</th>\n",
       "      <td>6085</td>\n",
       "    </tr>\n",
       "    <tr>\n",
       "      <th>2015</th>\n",
       "      <td>6028</td>\n",
       "    </tr>\n",
       "    <tr>\n",
       "      <th>2016</th>\n",
       "      <td>6278</td>\n",
       "    </tr>\n",
       "  </tbody>\n",
       "</table>\n",
       "</div>"
      ],
      "text/plain": [
       "      value\n",
       "year       \n",
       "2008   6087\n",
       "2009   6153\n",
       "2010   6073\n",
       "2011   5946\n",
       "2012   5857\n",
       "2013   5994\n",
       "2014   6085\n",
       "2015   6028\n",
       "2016   6278"
      ]
     },
     "execution_count": 28,
     "metadata": {},
     "output_type": "execute_result"
    }
   ],
   "source": [
    "Cro.to_frame()"
   ]
  },
  {
   "cell_type": "code",
   "execution_count": 29,
   "id": "c3cfd9a8",
   "metadata": {},
   "outputs": [
    {
     "data": {
      "text/html": [
       "<div>\n",
       "<style scoped>\n",
       "    .dataframe tbody tr th:only-of-type {\n",
       "        vertical-align: middle;\n",
       "    }\n",
       "\n",
       "    .dataframe tbody tr th {\n",
       "        vertical-align: top;\n",
       "    }\n",
       "\n",
       "    .dataframe thead th {\n",
       "        text-align: right;\n",
       "    }\n",
       "</style>\n",
       "<table border=\"1\" class=\"dataframe\">\n",
       "  <thead>\n",
       "    <tr style=\"text-align: right;\">\n",
       "      <th></th>\n",
       "      <th>Croydon</th>\n",
       "    </tr>\n",
       "    <tr>\n",
       "      <th>year</th>\n",
       "      <th></th>\n",
       "    </tr>\n",
       "  </thead>\n",
       "  <tbody>\n",
       "    <tr>\n",
       "      <th>2008</th>\n",
       "      <td>6087</td>\n",
       "    </tr>\n",
       "    <tr>\n",
       "      <th>2009</th>\n",
       "      <td>6153</td>\n",
       "    </tr>\n",
       "    <tr>\n",
       "      <th>2010</th>\n",
       "      <td>6073</td>\n",
       "    </tr>\n",
       "    <tr>\n",
       "      <th>2011</th>\n",
       "      <td>5946</td>\n",
       "    </tr>\n",
       "    <tr>\n",
       "      <th>2012</th>\n",
       "      <td>5857</td>\n",
       "    </tr>\n",
       "    <tr>\n",
       "      <th>2013</th>\n",
       "      <td>5994</td>\n",
       "    </tr>\n",
       "    <tr>\n",
       "      <th>2014</th>\n",
       "      <td>6085</td>\n",
       "    </tr>\n",
       "    <tr>\n",
       "      <th>2015</th>\n",
       "      <td>6028</td>\n",
       "    </tr>\n",
       "    <tr>\n",
       "      <th>2016</th>\n",
       "      <td>6278</td>\n",
       "    </tr>\n",
       "  </tbody>\n",
       "</table>\n",
       "</div>"
      ],
      "text/plain": [
       "      Croydon\n",
       "year         \n",
       "2008     6087\n",
       "2009     6153\n",
       "2010     6073\n",
       "2011     5946\n",
       "2012     5857\n",
       "2013     5994\n",
       "2014     6085\n",
       "2015     6028\n",
       "2016     6278"
      ]
     },
     "execution_count": 29,
     "metadata": {},
     "output_type": "execute_result"
    }
   ],
   "source": [
    "dfCro = Cro.to_frame()\n",
    "dfCro.rename(columns={'value':'Croydon'}, inplace=True)\n",
    "dfCro"
   ]
  },
  {
   "cell_type": "code",
   "execution_count": 30,
   "id": "430e704f",
   "metadata": {},
   "outputs": [
    {
     "data": {
      "text/html": [
       "<div>\n",
       "<style scoped>\n",
       "    .dataframe tbody tr th:only-of-type {\n",
       "        vertical-align: middle;\n",
       "    }\n",
       "\n",
       "    .dataframe tbody tr th {\n",
       "        vertical-align: top;\n",
       "    }\n",
       "\n",
       "    .dataframe thead th {\n",
       "        text-align: right;\n",
       "    }\n",
       "</style>\n",
       "<table border=\"1\" class=\"dataframe\">\n",
       "  <thead>\n",
       "    <tr style=\"text-align: right;\">\n",
       "      <th></th>\n",
       "      <th>Barnet</th>\n",
       "    </tr>\n",
       "    <tr>\n",
       "      <th>year</th>\n",
       "      <th></th>\n",
       "    </tr>\n",
       "  </thead>\n",
       "  <tbody>\n",
       "    <tr>\n",
       "      <th>2008</th>\n",
       "      <td>9349</td>\n",
       "    </tr>\n",
       "    <tr>\n",
       "      <th>2009</th>\n",
       "      <td>9486</td>\n",
       "    </tr>\n",
       "    <tr>\n",
       "      <th>2010</th>\n",
       "      <td>9259</td>\n",
       "    </tr>\n",
       "    <tr>\n",
       "      <th>2011</th>\n",
       "      <td>9246</td>\n",
       "    </tr>\n",
       "    <tr>\n",
       "      <th>2012</th>\n",
       "      <td>8776</td>\n",
       "    </tr>\n",
       "    <tr>\n",
       "      <th>2013</th>\n",
       "      <td>8989</td>\n",
       "    </tr>\n",
       "    <tr>\n",
       "      <th>2014</th>\n",
       "      <td>9291</td>\n",
       "    </tr>\n",
       "    <tr>\n",
       "      <th>2015</th>\n",
       "      <td>9620</td>\n",
       "    </tr>\n",
       "    <tr>\n",
       "      <th>2016</th>\n",
       "      <td>9677</td>\n",
       "    </tr>\n",
       "  </tbody>\n",
       "</table>\n",
       "</div>"
      ],
      "text/plain": [
       "      Barnet\n",
       "year        \n",
       "2008    9349\n",
       "2009    9486\n",
       "2010    9259\n",
       "2011    9246\n",
       "2012    8776\n",
       "2013    8989\n",
       "2014    9291\n",
       "2015    9620\n",
       "2016    9677"
      ]
     },
     "execution_count": 30,
     "metadata": {},
     "output_type": "execute_result"
    }
   ],
   "source": [
    "dfBar = Bar.to_frame()\n",
    "dfBar.rename(columns={'value':'Barnet'}, inplace=True)\n",
    "dfBar"
   ]
  },
  {
   "cell_type": "code",
   "execution_count": 31,
   "id": "46d40e4f",
   "metadata": {},
   "outputs": [
    {
     "data": {
      "text/html": [
       "<div>\n",
       "<style scoped>\n",
       "    .dataframe tbody tr th:only-of-type {\n",
       "        vertical-align: middle;\n",
       "    }\n",
       "\n",
       "    .dataframe tbody tr th {\n",
       "        vertical-align: top;\n",
       "    }\n",
       "\n",
       "    .dataframe thead th {\n",
       "        text-align: right;\n",
       "    }\n",
       "</style>\n",
       "<table border=\"1\" class=\"dataframe\">\n",
       "  <thead>\n",
       "    <tr style=\"text-align: right;\">\n",
       "      <th></th>\n",
       "      <th>Ealing</th>\n",
       "    </tr>\n",
       "    <tr>\n",
       "      <th>year</th>\n",
       "      <th></th>\n",
       "    </tr>\n",
       "  </thead>\n",
       "  <tbody>\n",
       "    <tr>\n",
       "      <th>2008</th>\n",
       "      <td>9889</td>\n",
       "    </tr>\n",
       "    <tr>\n",
       "      <th>2009</th>\n",
       "      <td>9962</td>\n",
       "    </tr>\n",
       "    <tr>\n",
       "      <th>2010</th>\n",
       "      <td>10203</td>\n",
       "    </tr>\n",
       "    <tr>\n",
       "      <th>2011</th>\n",
       "      <td>9852</td>\n",
       "    </tr>\n",
       "    <tr>\n",
       "      <th>2012</th>\n",
       "      <td>9815</td>\n",
       "    </tr>\n",
       "    <tr>\n",
       "      <th>2013</th>\n",
       "      <td>9394</td>\n",
       "    </tr>\n",
       "    <tr>\n",
       "      <th>2014</th>\n",
       "      <td>9449</td>\n",
       "    </tr>\n",
       "    <tr>\n",
       "      <th>2015</th>\n",
       "      <td>9514</td>\n",
       "    </tr>\n",
       "    <tr>\n",
       "      <th>2016</th>\n",
       "      <td>9907</td>\n",
       "    </tr>\n",
       "  </tbody>\n",
       "</table>\n",
       "</div>"
      ],
      "text/plain": [
       "      Ealing\n",
       "year        \n",
       "2008    9889\n",
       "2009    9962\n",
       "2010   10203\n",
       "2011    9852\n",
       "2012    9815\n",
       "2013    9394\n",
       "2014    9449\n",
       "2015    9514\n",
       "2016    9907"
      ]
     },
     "execution_count": 31,
     "metadata": {},
     "output_type": "execute_result"
    }
   ],
   "source": [
    "dfEal = Eal.to_frame()\n",
    "dfEal.rename(columns={'value':'Ealing'}, inplace=True)\n",
    "dfEal"
   ]
  },
  {
   "cell_type": "code",
   "execution_count": 32,
   "id": "a8c46677",
   "metadata": {},
   "outputs": [
    {
     "data": {
      "text/html": [
       "<div>\n",
       "<style scoped>\n",
       "    .dataframe tbody tr th:only-of-type {\n",
       "        vertical-align: middle;\n",
       "    }\n",
       "\n",
       "    .dataframe tbody tr th {\n",
       "        vertical-align: top;\n",
       "    }\n",
       "\n",
       "    .dataframe thead th {\n",
       "        text-align: right;\n",
       "    }\n",
       "</style>\n",
       "<table border=\"1\" class=\"dataframe\">\n",
       "  <thead>\n",
       "    <tr style=\"text-align: right;\">\n",
       "      <th></th>\n",
       "      <th>Bromley</th>\n",
       "    </tr>\n",
       "    <tr>\n",
       "      <th>year</th>\n",
       "      <th></th>\n",
       "    </tr>\n",
       "  </thead>\n",
       "  <tbody>\n",
       "    <tr>\n",
       "      <th>2008</th>\n",
       "      <td>8800</td>\n",
       "    </tr>\n",
       "    <tr>\n",
       "      <th>2009</th>\n",
       "      <td>8506</td>\n",
       "    </tr>\n",
       "    <tr>\n",
       "      <th>2010</th>\n",
       "      <td>7904</td>\n",
       "    </tr>\n",
       "    <tr>\n",
       "      <th>2011</th>\n",
       "      <td>8205</td>\n",
       "    </tr>\n",
       "    <tr>\n",
       "      <th>2012</th>\n",
       "      <td>7869</td>\n",
       "    </tr>\n",
       "    <tr>\n",
       "      <th>2013</th>\n",
       "      <td>7821</td>\n",
       "    </tr>\n",
       "    <tr>\n",
       "      <th>2014</th>\n",
       "      <td>7891</td>\n",
       "    </tr>\n",
       "    <tr>\n",
       "      <th>2015</th>\n",
       "      <td>8072</td>\n",
       "    </tr>\n",
       "    <tr>\n",
       "      <th>2016</th>\n",
       "      <td>8095</td>\n",
       "    </tr>\n",
       "  </tbody>\n",
       "</table>\n",
       "</div>"
      ],
      "text/plain": [
       "      Bromley\n",
       "year         \n",
       "2008     8800\n",
       "2009     8506\n",
       "2010     7904\n",
       "2011     8205\n",
       "2012     7869\n",
       "2013     7821\n",
       "2014     7891\n",
       "2015     8072\n",
       "2016     8095"
      ]
     },
     "execution_count": 32,
     "metadata": {},
     "output_type": "execute_result"
    }
   ],
   "source": [
    "dfBro = Bro.to_frame()\n",
    "dfBro.rename(columns={'value':'Bromley'}, inplace=True)\n",
    "dfBro"
   ]
  },
  {
   "cell_type": "code",
   "execution_count": 33,
   "id": "4ce6f629",
   "metadata": {},
   "outputs": [
    {
     "data": {
      "text/html": [
       "<div>\n",
       "<style scoped>\n",
       "    .dataframe tbody tr th:only-of-type {\n",
       "        vertical-align: middle;\n",
       "    }\n",
       "\n",
       "    .dataframe tbody tr th {\n",
       "        vertical-align: top;\n",
       "    }\n",
       "\n",
       "    .dataframe thead th {\n",
       "        text-align: right;\n",
       "    }\n",
       "</style>\n",
       "<table border=\"1\" class=\"dataframe\">\n",
       "  <thead>\n",
       "    <tr style=\"text-align: right;\">\n",
       "      <th></th>\n",
       "      <th>Lambeth</th>\n",
       "    </tr>\n",
       "    <tr>\n",
       "      <th>year</th>\n",
       "      <th></th>\n",
       "    </tr>\n",
       "  </thead>\n",
       "  <tbody>\n",
       "    <tr>\n",
       "      <th>2008</th>\n",
       "      <td>10473</td>\n",
       "    </tr>\n",
       "    <tr>\n",
       "      <th>2009</th>\n",
       "      <td>10268</td>\n",
       "    </tr>\n",
       "    <tr>\n",
       "      <th>2010</th>\n",
       "      <td>10213</td>\n",
       "    </tr>\n",
       "    <tr>\n",
       "      <th>2011</th>\n",
       "      <td>10152</td>\n",
       "    </tr>\n",
       "    <tr>\n",
       "      <th>2012</th>\n",
       "      <td>9946</td>\n",
       "    </tr>\n",
       "    <tr>\n",
       "      <th>2013</th>\n",
       "      <td>9927</td>\n",
       "    </tr>\n",
       "    <tr>\n",
       "      <th>2014</th>\n",
       "      <td>10257</td>\n",
       "    </tr>\n",
       "    <tr>\n",
       "      <th>2015</th>\n",
       "      <td>10397</td>\n",
       "    </tr>\n",
       "    <tr>\n",
       "      <th>2016</th>\n",
       "      <td>10644</td>\n",
       "    </tr>\n",
       "  </tbody>\n",
       "</table>\n",
       "</div>"
      ],
      "text/plain": [
       "      Lambeth\n",
       "year         \n",
       "2008    10473\n",
       "2009    10268\n",
       "2010    10213\n",
       "2011    10152\n",
       "2012     9946\n",
       "2013     9927\n",
       "2014    10257\n",
       "2015    10397\n",
       "2016    10644"
      ]
     },
     "execution_count": 33,
     "metadata": {},
     "output_type": "execute_result"
    }
   ],
   "source": [
    "dfLam = Lam.to_frame()\n",
    "dfLam.rename(columns={'value':'Lambeth'}, inplace=True)\n",
    "dfLam"
   ]
  },
  {
   "cell_type": "markdown",
   "id": "d6c3f18a",
   "metadata": {},
   "source": [
    "Gabungkan kelima dataframe diatas menggunakan fungsi **concat**"
   ]
  },
  {
   "cell_type": "code",
   "execution_count": 34,
   "id": "e52b9584",
   "metadata": {},
   "outputs": [
    {
     "data": {
      "text/html": [
       "<div>\n",
       "<style scoped>\n",
       "    .dataframe tbody tr th:only-of-type {\n",
       "        vertical-align: middle;\n",
       "    }\n",
       "\n",
       "    .dataframe tbody tr th {\n",
       "        vertical-align: top;\n",
       "    }\n",
       "\n",
       "    .dataframe thead th {\n",
       "        text-align: right;\n",
       "    }\n",
       "</style>\n",
       "<table border=\"1\" class=\"dataframe\">\n",
       "  <thead>\n",
       "    <tr style=\"text-align: right;\">\n",
       "      <th></th>\n",
       "      <th>Croydon</th>\n",
       "      <th>Barnet</th>\n",
       "      <th>Ealing</th>\n",
       "      <th>Bromley</th>\n",
       "      <th>Lambeth</th>\n",
       "    </tr>\n",
       "    <tr>\n",
       "      <th>year</th>\n",
       "      <th></th>\n",
       "      <th></th>\n",
       "      <th></th>\n",
       "      <th></th>\n",
       "      <th></th>\n",
       "    </tr>\n",
       "  </thead>\n",
       "  <tbody>\n",
       "    <tr>\n",
       "      <th>2008</th>\n",
       "      <td>6087</td>\n",
       "      <td>9349</td>\n",
       "      <td>9889</td>\n",
       "      <td>8800</td>\n",
       "      <td>10473</td>\n",
       "    </tr>\n",
       "    <tr>\n",
       "      <th>2009</th>\n",
       "      <td>6153</td>\n",
       "      <td>9486</td>\n",
       "      <td>9962</td>\n",
       "      <td>8506</td>\n",
       "      <td>10268</td>\n",
       "    </tr>\n",
       "    <tr>\n",
       "      <th>2010</th>\n",
       "      <td>6073</td>\n",
       "      <td>9259</td>\n",
       "      <td>10203</td>\n",
       "      <td>7904</td>\n",
       "      <td>10213</td>\n",
       "    </tr>\n",
       "    <tr>\n",
       "      <th>2011</th>\n",
       "      <td>5946</td>\n",
       "      <td>9246</td>\n",
       "      <td>9852</td>\n",
       "      <td>8205</td>\n",
       "      <td>10152</td>\n",
       "    </tr>\n",
       "    <tr>\n",
       "      <th>2012</th>\n",
       "      <td>5857</td>\n",
       "      <td>8776</td>\n",
       "      <td>9815</td>\n",
       "      <td>7869</td>\n",
       "      <td>9946</td>\n",
       "    </tr>\n",
       "    <tr>\n",
       "      <th>2013</th>\n",
       "      <td>5994</td>\n",
       "      <td>8989</td>\n",
       "      <td>9394</td>\n",
       "      <td>7821</td>\n",
       "      <td>9927</td>\n",
       "    </tr>\n",
       "    <tr>\n",
       "      <th>2014</th>\n",
       "      <td>6085</td>\n",
       "      <td>9291</td>\n",
       "      <td>9449</td>\n",
       "      <td>7891</td>\n",
       "      <td>10257</td>\n",
       "    </tr>\n",
       "    <tr>\n",
       "      <th>2015</th>\n",
       "      <td>6028</td>\n",
       "      <td>9620</td>\n",
       "      <td>9514</td>\n",
       "      <td>8072</td>\n",
       "      <td>10397</td>\n",
       "    </tr>\n",
       "    <tr>\n",
       "      <th>2016</th>\n",
       "      <td>6278</td>\n",
       "      <td>9677</td>\n",
       "      <td>9907</td>\n",
       "      <td>8095</td>\n",
       "      <td>10644</td>\n",
       "    </tr>\n",
       "  </tbody>\n",
       "</table>\n",
       "</div>"
      ],
      "text/plain": [
       "      Croydon  Barnet  Ealing  Bromley  Lambeth\n",
       "year                                           \n",
       "2008     6087    9349    9889     8800    10473\n",
       "2009     6153    9486    9962     8506    10268\n",
       "2010     6073    9259   10203     7904    10213\n",
       "2011     5946    9246    9852     8205    10152\n",
       "2012     5857    8776    9815     7869     9946\n",
       "2013     5994    8989    9394     7821     9927\n",
       "2014     6085    9291    9449     7891    10257\n",
       "2015     6028    9620    9514     8072    10397\n",
       "2016     6278    9677    9907     8095    10644"
      ]
     },
     "execution_count": 34,
     "metadata": {},
     "output_type": "execute_result"
    }
   ],
   "source": [
    "df_top5 = pd.concat([dfCro,dfBar,dfEal,dfBro,dfLam], axis=1)\n",
    "df_top5"
   ]
  },
  {
   "cell_type": "code",
   "execution_count": 35,
   "id": "da3d4cd1",
   "metadata": {},
   "outputs": [
    {
     "data": {
      "text/plain": [
       "Index(['Croydon', 'Barnet', 'Ealing', 'Bromley', 'Lambeth'], dtype='object')"
      ]
     },
     "execution_count": 35,
     "metadata": {},
     "output_type": "execute_result"
    }
   ],
   "source": [
    "df_top5.columns[0:]"
   ]
  },
  {
   "cell_type": "markdown",
   "id": "98af91b6",
   "metadata": {},
   "source": [
    "### Area Plot"
   ]
  },
  {
   "cell_type": "code",
   "execution_count": 36,
   "id": "530e90ef",
   "metadata": {},
   "outputs": [
    {
     "data": {
      "image/png": "[encoded data removed]",
      "text/plain": [
       "<Figure size 1000x500 with 1 Axes>"
      ]
     },
     "metadata": {},
     "output_type": "display_data"
    }
   ],
   "source": [
    "df_top5.index = df_top5.index.map(int)\n",
    "df_top5.plot(kind='area',\n",
    "             alpha=0.3,\n",
    "             stacked=False,\n",
    "             figsize=(10, 5),\n",
    "             )\n",
    "\n",
    "plt.title('Top 5 Area with the Highest Crime from 2008-2016')\n",
    "plt.ylabel('Number of Crimes')\n",
    "plt.xlabel('year')\n",
    "\n",
    "plt.show()"
   ]
  },
  {
   "cell_type": "markdown",
   "id": "208df524",
   "metadata": {},
   "source": [
    "**Keterangan**"
   ]
  },
  {
   "cell_type": "markdown",
   "id": "5698c004",
   "metadata": {},
   "source": [
    "\n",
    "Dari grafik **Area** di atas didapatkan informasi 5 wilayah(borough) dengan tingkat kejahatan tertinggi dari rentan waktu 2008-20016, dimana posisi pertama yaitu pada wilayah Croydon dan posisi ke-5 adalah Lambeth."
   ]
  },
  {
   "cell_type": "markdown",
   "id": "5719795f",
   "metadata": {},
   "source": [
    "### Histogram"
   ]
  },
  {
   "cell_type": "code",
   "execution_count": 37,
   "id": "c8d1a3e0",
   "metadata": {
    "scrolled": false
   },
   "outputs": [
    {
     "data": {
      "image/png": "[encoded data removed]",
      "text/plain": [
       "<Figure size 1500x400 with 1 Axes>"
      ]
     },
     "metadata": {},
     "output_type": "display_data"
    }
   ],
   "source": [
    "count, bin_edges = np.histogram(df_top5, 15)\n",
    "df_top5.plot(kind ='hist',\n",
    "figsize=(15, 4),\n",
    "bins=15,\n",
    "alpha=0.5,\n",
    "xticks=bin_edges,\n",
    ")\n",
    "plt.title('Top 5 Borough with the Highest Crime from 2008-2016') \n",
    "plt.ylabel('year (frequency)') \n",
    "plt.xlabel('Number or Crimes')\n",
    "\n",
    "plt.show()"
   ]
  },
  {
   "cell_type": "markdown",
   "id": "efb5cd48",
   "metadata": {},
   "source": [
    "**Keterangan**"
   ]
  },
  {
   "cell_type": "markdown",
   "id": "b2337744",
   "metadata": {},
   "source": [
    "Dari grafik **Histogram** di atas didapatkan informasi 5 wilayah(borough) dengan frekuensi kejahatan tertinggi dari rentan waktu 2008-20016, dimana fekuensi yang paling tinggi terjadi di wilayah Croydon."
   ]
  },
  {
   "cell_type": "code",
   "execution_count": 38,
   "id": "0f7361a2",
   "metadata": {
    "scrolled": true
   },
   "outputs": [
    {
     "data": {
      "text/plain": [
       "Croydon    94786\n",
       "Lambeth    92277\n",
       "Ealing     87985\n",
       "Barnet     83693\n",
       "Bromley    73163\n",
       "Name: borough, dtype: int64"
      ]
     },
     "execution_count": 38,
     "metadata": {},
     "output_type": "execute_result"
    }
   ],
   "source": [
    "df_5_borough = df[\n",
    "    (df['borough']== df_top5.columns[0]) |\n",
    "    (df['borough']== df_top5.columns[1]) |\n",
    "    (df['borough']== df_top5.columns[2]) |\n",
    "    (df['borough']== df_top5.columns[3]) |\n",
    "    (df['borough']== df_top5.columns[4])\n",
    "]\n",
    "df_5_borough['borough'].value_counts()"
   ]
  },
  {
   "cell_type": "code",
   "execution_count": 39,
   "id": "902f317f",
   "metadata": {},
   "outputs": [
    {
     "data": {
      "text/plain": [
       "Croydon    94786\n",
       "Lambeth    92277\n",
       "Ealing     87985\n",
       "Barnet     83693\n",
       "Bromley    73163\n",
       "Name: borough, dtype: int64"
      ]
     },
     "execution_count": 39,
     "metadata": {},
     "output_type": "execute_result"
    }
   ],
   "source": [
    "df_5_borough['borough'].value_counts()"
   ]
  },
  {
   "cell_type": "code",
   "execution_count": 40,
   "id": "2c695e0d",
   "metadata": {},
   "outputs": [
    {
     "data": {
      "text/plain": [
       "431904"
      ]
     },
     "execution_count": 40,
     "metadata": {},
     "output_type": "execute_result"
    }
   ],
   "source": [
    "df_5_borough['borough'].count()"
   ]
  },
  {
   "cell_type": "code",
   "execution_count": 41,
   "id": "18c750c1",
   "metadata": {},
   "outputs": [
    {
     "data": {
      "text/plain": [
       "Index(['Croydon', 'Lambeth', 'Ealing', 'Barnet', 'Bromley'], dtype='object')"
      ]
     },
     "execution_count": 41,
     "metadata": {},
     "output_type": "execute_result"
    }
   ],
   "source": [
    "df_5_borough['borough'].value_counts().index"
   ]
  },
  {
   "cell_type": "markdown",
   "id": "3c6065f1",
   "metadata": {},
   "source": [
    "### Pie Chart"
   ]
  },
  {
   "cell_type": "code",
   "execution_count": 42,
   "id": "c044a981",
   "metadata": {},
   "outputs": [
    {
     "data": {
      "image/png": "[encoded data removed]",
      "text/plain": [
       "<Figure size 600x600 with 1 Axes>"
      ]
     },
     "metadata": {},
     "output_type": "display_data"
    }
   ],
   "source": [
    "plt.figure(figsize=(6,6))\n",
    "color = ['#0a5f38', '#048243', '#0cb577', '#12e193', '#05ffa6']\n",
    "exp = [0.1,0,0,0,0]\n",
    "plt.pie(df_5_borough['borough'].value_counts(), labels = df_5_borough['borough'].value_counts().index, explode=exp, colors=color, autopct='%1.1f%%');\n",
    "plt.title('Percentage Top 5 Borough with the Highest Crime from 2008-2016')\n",
    "\n",
    "plt.show()"
   ]
  },
  {
   "cell_type": "markdown",
   "id": "4b4cae62",
   "metadata": {},
   "source": [
    "**Keterangan**"
   ]
  },
  {
   "cell_type": "markdown",
   "id": "8a9364e9",
   "metadata": {},
   "source": [
    "Dari grafik **Pie** di atas didapatkan informasi persentase dari ke-5 wilayah(borough) dengan tingkat kejahatan tertinggi dari rentan waktu 2008-20016, dimana persentase tertinggi yaitu pada wilayah Croydon sebanyak 21,9%."
   ]
  },
  {
   "cell_type": "code",
   "execution_count": 43,
   "id": "7448f026",
   "metadata": {},
   "outputs": [
    {
     "data": {
      "text/plain": [
       "Croydon                   94786\n",
       "Lambeth                   92277\n",
       "Ealing                    87985\n",
       "Southwark                 85661\n",
       "Barnet                    83693\n",
       "Newham                    82695\n",
       "Lewisham                  81911\n",
       "Brent                     80637\n",
       "Enfield                   77162\n",
       "Wandsworth                77134\n",
       "Bromley                   73163\n",
       "Waltham Forest            71396\n",
       "Tower Hamlets             71257\n",
       "Hackney                   71207\n",
       "Haringey                  70662\n",
       "Hillingdon                68604\n",
       "Redbridge                 67682\n",
       "Greenwich                 66340\n",
       "Hounslow                  66061\n",
       "Islington                 65069\n",
       "Camden                    63721\n",
       "Westminster               57206\n",
       "Hammersmith and Fulham    55175\n",
       "Havering                  55102\n",
       "Barking and Dagenham      54501\n",
       "Bexley                    51715\n",
       "Harrow                    50786\n",
       "Merton                    50453\n",
       "Kensington and Chelsea    47735\n",
       "Sutton                    43870\n",
       "Richmond upon Thames      42952\n",
       "Kingston upon Thames      32756\n",
       "City of London              435\n",
       "Name: borough, dtype: int64"
      ]
     },
     "execution_count": 43,
     "metadata": {},
     "output_type": "execute_result"
    }
   ],
   "source": [
    "df['borough'].value_counts()"
   ]
  },
  {
   "cell_type": "code",
   "execution_count": 44,
   "id": "6a5c408c",
   "metadata": {},
   "outputs": [
    {
     "data": {
      "text/plain": [
       "1"
      ]
     },
     "execution_count": 44,
     "metadata": {},
     "output_type": "execute_result"
    }
   ],
   "source": [
    "df.loc[df[\"borough\"] == \"Croydon\", \"value\"].max()"
   ]
  },
  {
   "cell_type": "code",
   "execution_count": 45,
   "id": "539f9edb",
   "metadata": {},
   "outputs": [
    {
     "data": {
      "text/plain": [
       "major_category  year\n",
       "Burglary        2008    29367\n",
       "                2009    29193\n",
       "                2010    29471\n",
       "                2011    29513\n",
       "                2012    30222\n",
       "                2013    30037\n",
       "                2014    29071\n",
       "                2015    28299\n",
       "                2016    27862\n",
       "Name: value, dtype: int64"
      ]
     },
     "execution_count": 45,
     "metadata": {},
     "output_type": "execute_result"
    }
   ],
   "source": [
    "df[df['major_category']=='Burglary'].groupby([\"major_category\", 'year'])['value'].sum()"
   ]
  },
  {
   "cell_type": "code",
   "execution_count": 46,
   "id": "4dbecfc9",
   "metadata": {},
   "outputs": [
    {
     "data": {
      "text/plain": [
       "major_category  year\n",
       "Burglary        2008    29367\n",
       "                2009    29193\n",
       "                2010    29471\n",
       "                2011    29513\n",
       "                2012    30222\n",
       "                2013    30037\n",
       "                2014    29071\n",
       "                2015    28299\n",
       "                2016    27862\n",
       "Name: value, dtype: int64"
      ]
     },
     "execution_count": 46,
     "metadata": {},
     "output_type": "execute_result"
    }
   ],
   "source": [
    "maj_cat = df[df['major_category']=='Burglary'].groupby([\"major_category\", 'year'])['value'].sum()\n",
    "maj_cat"
   ]
  },
  {
   "cell_type": "code",
   "execution_count": 47,
   "id": "6d57b081",
   "metadata": {},
   "outputs": [
    {
     "data": {
      "text/html": [
       "<div>\n",
       "<style scoped>\n",
       "    .dataframe tbody tr th:only-of-type {\n",
       "        vertical-align: middle;\n",
       "    }\n",
       "\n",
       "    .dataframe tbody tr th {\n",
       "        vertical-align: top;\n",
       "    }\n",
       "\n",
       "    .dataframe thead th {\n",
       "        text-align: right;\n",
       "    }\n",
       "</style>\n",
       "<table border=\"1\" class=\"dataframe\">\n",
       "  <thead>\n",
       "    <tr style=\"text-align: right;\">\n",
       "      <th></th>\n",
       "      <th></th>\n",
       "      <th>value</th>\n",
       "    </tr>\n",
       "    <tr>\n",
       "      <th>major_category</th>\n",
       "      <th>year</th>\n",
       "      <th></th>\n",
       "    </tr>\n",
       "  </thead>\n",
       "  <tbody>\n",
       "    <tr>\n",
       "      <th rowspan=\"9\" valign=\"top\">Burglary</th>\n",
       "      <th>2008</th>\n",
       "      <td>29367</td>\n",
       "    </tr>\n",
       "    <tr>\n",
       "      <th>2009</th>\n",
       "      <td>29193</td>\n",
       "    </tr>\n",
       "    <tr>\n",
       "      <th>2010</th>\n",
       "      <td>29471</td>\n",
       "    </tr>\n",
       "    <tr>\n",
       "      <th>2011</th>\n",
       "      <td>29513</td>\n",
       "    </tr>\n",
       "    <tr>\n",
       "      <th>2012</th>\n",
       "      <td>30222</td>\n",
       "    </tr>\n",
       "    <tr>\n",
       "      <th>2013</th>\n",
       "      <td>30037</td>\n",
       "    </tr>\n",
       "    <tr>\n",
       "      <th>2014</th>\n",
       "      <td>29071</td>\n",
       "    </tr>\n",
       "    <tr>\n",
       "      <th>2015</th>\n",
       "      <td>28299</td>\n",
       "    </tr>\n",
       "    <tr>\n",
       "      <th>2016</th>\n",
       "      <td>27862</td>\n",
       "    </tr>\n",
       "  </tbody>\n",
       "</table>\n",
       "</div>"
      ],
      "text/plain": [
       "                     value\n",
       "major_category year       \n",
       "Burglary       2008  29367\n",
       "               2009  29193\n",
       "               2010  29471\n",
       "               2011  29513\n",
       "               2012  30222\n",
       "               2013  30037\n",
       "               2014  29071\n",
       "               2015  28299\n",
       "               2016  27862"
      ]
     },
     "execution_count": 47,
     "metadata": {},
     "output_type": "execute_result"
    }
   ],
   "source": [
    "df_maj_cat = maj_cat.to_frame()\n",
    "df_maj_cat"
   ]
  },
  {
   "cell_type": "markdown",
   "id": "28e30b9b",
   "metadata": {},
   "source": [
    "## Rata-rata jenis kejahatan utama(major) yang terjadi periode 2008-2016"
   ]
  },
  {
   "cell_type": "code",
   "execution_count": 48,
   "id": "727f567f",
   "metadata": {},
   "outputs": [
    {
     "data": {
      "text/plain": [
       "major_category\n",
       "Burglary                       29226.111111\n",
       "Criminal Damage                39307.666667\n",
       "Drugs                          15430.888889\n",
       "Fraud or Forgery                 203.888889\n",
       "Other Notifiable Offences       7325.000000\n",
       "Robbery                        12309.444444\n",
       "Sexual Offences                  106.333333\n",
       "Theft and Handling             73597.666667\n",
       "Violence Against the Person    60469.555556\n",
       "Name: value, dtype: float64"
      ]
     },
     "execution_count": 48,
     "metadata": {},
     "output_type": "execute_result"
    }
   ],
   "source": [
    "s_avg_crime = df.groupby('major_category')['value'].sum()/len(df['year'].unique())\n",
    "s_avg_crime"
   ]
  },
  {
   "cell_type": "code",
   "execution_count": 49,
   "id": "b42f7d4b",
   "metadata": {},
   "outputs": [
    {
     "data": {
      "text/html": [
       "<div>\n",
       "<style scoped>\n",
       "    .dataframe tbody tr th:only-of-type {\n",
       "        vertical-align: middle;\n",
       "    }\n",
       "\n",
       "    .dataframe tbody tr th {\n",
       "        vertical-align: top;\n",
       "    }\n",
       "\n",
       "    .dataframe thead th {\n",
       "        text-align: right;\n",
       "    }\n",
       "</style>\n",
       "<table border=\"1\" class=\"dataframe\">\n",
       "  <thead>\n",
       "    <tr style=\"text-align: right;\">\n",
       "      <th></th>\n",
       "      <th>value</th>\n",
       "    </tr>\n",
       "    <tr>\n",
       "      <th>major_category</th>\n",
       "      <th></th>\n",
       "    </tr>\n",
       "  </thead>\n",
       "  <tbody>\n",
       "    <tr>\n",
       "      <th>Theft and Handling</th>\n",
       "      <td>73597.666667</td>\n",
       "    </tr>\n",
       "    <tr>\n",
       "      <th>Violence Against the Person</th>\n",
       "      <td>60469.555556</td>\n",
       "    </tr>\n",
       "    <tr>\n",
       "      <th>Criminal Damage</th>\n",
       "      <td>39307.666667</td>\n",
       "    </tr>\n",
       "    <tr>\n",
       "      <th>Burglary</th>\n",
       "      <td>29226.111111</td>\n",
       "    </tr>\n",
       "    <tr>\n",
       "      <th>Drugs</th>\n",
       "      <td>15430.888889</td>\n",
       "    </tr>\n",
       "    <tr>\n",
       "      <th>Robbery</th>\n",
       "      <td>12309.444444</td>\n",
       "    </tr>\n",
       "    <tr>\n",
       "      <th>Other Notifiable Offences</th>\n",
       "      <td>7325.000000</td>\n",
       "    </tr>\n",
       "    <tr>\n",
       "      <th>Fraud or Forgery</th>\n",
       "      <td>203.888889</td>\n",
       "    </tr>\n",
       "    <tr>\n",
       "      <th>Sexual Offences</th>\n",
       "      <td>106.333333</td>\n",
       "    </tr>\n",
       "  </tbody>\n",
       "</table>\n",
       "</div>"
      ],
      "text/plain": [
       "                                    value\n",
       "major_category                           \n",
       "Theft and Handling           73597.666667\n",
       "Violence Against the Person  60469.555556\n",
       "Criminal Damage              39307.666667\n",
       "Burglary                     29226.111111\n",
       "Drugs                        15430.888889\n",
       "Robbery                      12309.444444\n",
       "Other Notifiable Offences     7325.000000\n",
       "Fraud or Forgery               203.888889\n",
       "Sexual Offences                106.333333"
      ]
     },
     "execution_count": 49,
     "metadata": {},
     "output_type": "execute_result"
    }
   ],
   "source": [
    "df_avg_crime= s_avg_crime.to_frame().sort_values('value',ascending=False)\n",
    "df_avg_crime"
   ]
  },
  {
   "cell_type": "markdown",
   "id": "a7f5f3db",
   "metadata": {},
   "source": [
    "### Bar Chart"
   ]
  },
  {
   "cell_type": "code",
   "execution_count": 50,
   "id": "5b47d687",
   "metadata": {},
   "outputs": [
    {
     "data": {
      "image/png": "[encoded data removed]",
      "text/plain": [
       "<Figure size 800x400 with 1 Axes>"
      ]
     },
     "metadata": {},
     "output_type": "display_data"
    }
   ],
   "source": [
    "df_avg_crime.plot(kind='barh',\n",
    "                 figsize = ((8,4))) \n",
    "#jenis dari bar \n",
    "plt.title('Average Major Crimes 2008-2016') \n",
    "#judul \n",
    "plt.xlabel('Number of Crimes') \n",
    "#ylabel \n",
    "plt.ylabel('Major Category') \n",
    "#xlabel \n",
    "plt.show() #tampilkan"
   ]
  },
  {
   "cell_type": "markdown",
   "id": "b0362fcf",
   "metadata": {},
   "source": [
    "**Keterangan**"
   ]
  },
  {
   "cell_type": "markdown",
   "id": "4cf5a92c",
   "metadata": {},
   "source": [
    "Dari grafik **Bar** di atas didapatkan informasi Rata-rata jenis kejahatan yang terjadi dalam kurun tahun 2008-2016. Dimana rata-rata tertinggi adalah kejahatan Theft and Handling dan yang terendah adalah Sexual Offences."
   ]
  },
  {
   "cell_type": "code",
   "execution_count": 51,
   "id": "4b888ff8",
   "metadata": {},
   "outputs": [
    {
     "data": {
      "text/html": [
       "<div>\n",
       "<style scoped>\n",
       "    .dataframe tbody tr th:only-of-type {\n",
       "        vertical-align: middle;\n",
       "    }\n",
       "\n",
       "    .dataframe tbody tr th {\n",
       "        vertical-align: top;\n",
       "    }\n",
       "\n",
       "    .dataframe thead th {\n",
       "        text-align: right;\n",
       "    }\n",
       "</style>\n",
       "<table border=\"1\" class=\"dataframe\">\n",
       "  <thead>\n",
       "    <tr style=\"text-align: right;\">\n",
       "      <th></th>\n",
       "      <th>lsoa_code</th>\n",
       "      <th>borough</th>\n",
       "      <th>major_category</th>\n",
       "      <th>minor_category</th>\n",
       "      <th>value</th>\n",
       "      <th>year</th>\n",
       "      <th>month</th>\n",
       "    </tr>\n",
       "  </thead>\n",
       "  <tbody>\n",
       "    <tr>\n",
       "      <th>9</th>\n",
       "      <td>E01004177</td>\n",
       "      <td>Sutton</td>\n",
       "      <td>Theft and Handling</td>\n",
       "      <td>Theft/Taking of Pedal Cycle</td>\n",
       "      <td>1</td>\n",
       "      <td>2016</td>\n",
       "      <td>8</td>\n",
       "    </tr>\n",
       "    <tr>\n",
       "      <th>32</th>\n",
       "      <td>E01000733</td>\n",
       "      <td>Bromley</td>\n",
       "      <td>Criminal Damage</td>\n",
       "      <td>Criminal Damage To Motor Vehicle</td>\n",
       "      <td>1</td>\n",
       "      <td>2016</td>\n",
       "      <td>4</td>\n",
       "    </tr>\n",
       "    <tr>\n",
       "      <th>112</th>\n",
       "      <td>E01002276</td>\n",
       "      <td>Havering</td>\n",
       "      <td>Burglary</td>\n",
       "      <td>Burglary in a Dwelling</td>\n",
       "      <td>1</td>\n",
       "      <td>2016</td>\n",
       "      <td>8</td>\n",
       "    </tr>\n",
       "    <tr>\n",
       "      <th>260</th>\n",
       "      <td>E01001902</td>\n",
       "      <td>Hammersmith and Fulham</td>\n",
       "      <td>Drugs</td>\n",
       "      <td>Possession Of Drugs</td>\n",
       "      <td>1</td>\n",
       "      <td>2016</td>\n",
       "      <td>2</td>\n",
       "    </tr>\n",
       "    <tr>\n",
       "      <th>345</th>\n",
       "      <td>E01002365</td>\n",
       "      <td>Havering</td>\n",
       "      <td>Violence Against the Person</td>\n",
       "      <td>Harassment</td>\n",
       "      <td>1</td>\n",
       "      <td>2016</td>\n",
       "      <td>8</td>\n",
       "    </tr>\n",
       "    <tr>\n",
       "      <th>...</th>\n",
       "      <td>...</td>\n",
       "      <td>...</td>\n",
       "      <td>...</td>\n",
       "      <td>...</td>\n",
       "      <td>...</td>\n",
       "      <td>...</td>\n",
       "      <td>...</td>\n",
       "    </tr>\n",
       "    <tr>\n",
       "      <th>13490232</th>\n",
       "      <td>E01003372</td>\n",
       "      <td>Merton</td>\n",
       "      <td>Violence Against the Person</td>\n",
       "      <td>Common Assault</td>\n",
       "      <td>1</td>\n",
       "      <td>2016</td>\n",
       "      <td>5</td>\n",
       "    </tr>\n",
       "    <tr>\n",
       "      <th>13490303</th>\n",
       "      <td>E01003014</td>\n",
       "      <td>Lambeth</td>\n",
       "      <td>Violence Against the Person</td>\n",
       "      <td>Other violence</td>\n",
       "      <td>1</td>\n",
       "      <td>2016</td>\n",
       "      <td>5</td>\n",
       "    </tr>\n",
       "    <tr>\n",
       "      <th>13490358</th>\n",
       "      <td>E01000084</td>\n",
       "      <td>Barking and Dagenham</td>\n",
       "      <td>Drugs</td>\n",
       "      <td>Possession Of Drugs</td>\n",
       "      <td>1</td>\n",
       "      <td>2016</td>\n",
       "      <td>4</td>\n",
       "    </tr>\n",
       "    <tr>\n",
       "      <th>13490379</th>\n",
       "      <td>E01004532</td>\n",
       "      <td>Wandsworth</td>\n",
       "      <td>Violence Against the Person</td>\n",
       "      <td>Common Assault</td>\n",
       "      <td>1</td>\n",
       "      <td>2016</td>\n",
       "      <td>4</td>\n",
       "    </tr>\n",
       "    <tr>\n",
       "      <th>13490412</th>\n",
       "      <td>E01000950</td>\n",
       "      <td>Camden</td>\n",
       "      <td>Robbery</td>\n",
       "      <td>Personal Property</td>\n",
       "      <td>1</td>\n",
       "      <td>2016</td>\n",
       "      <td>3</td>\n",
       "    </tr>\n",
       "  </tbody>\n",
       "</table>\n",
       "<p>246170 rows × 7 columns</p>\n",
       "</div>"
      ],
      "text/plain": [
       "          lsoa_code                 borough               major_category  \\\n",
       "9         E01004177                  Sutton           Theft and Handling   \n",
       "32        E01000733                 Bromley              Criminal Damage   \n",
       "112       E01002276                Havering                     Burglary   \n",
       "260       E01001902  Hammersmith and Fulham                        Drugs   \n",
       "345       E01002365                Havering  Violence Against the Person   \n",
       "...             ...                     ...                          ...   \n",
       "13490232  E01003372                  Merton  Violence Against the Person   \n",
       "13490303  E01003014                 Lambeth  Violence Against the Person   \n",
       "13490358  E01000084    Barking and Dagenham                        Drugs   \n",
       "13490379  E01004532              Wandsworth  Violence Against the Person   \n",
       "13490412  E01000950                  Camden                      Robbery   \n",
       "\n",
       "                            minor_category  value  year  month  \n",
       "9              Theft/Taking of Pedal Cycle      1  2016      8  \n",
       "32        Criminal Damage To Motor Vehicle      1  2016      4  \n",
       "112                 Burglary in a Dwelling      1  2016      8  \n",
       "260                    Possession Of Drugs      1  2016      2  \n",
       "345                             Harassment      1  2016      8  \n",
       "...                                    ...    ...   ...    ...  \n",
       "13490232                    Common Assault      1  2016      5  \n",
       "13490303                    Other violence      1  2016      5  \n",
       "13490358               Possession Of Drugs      1  2016      4  \n",
       "13490379                    Common Assault      1  2016      4  \n",
       "13490412                 Personal Property      1  2016      3  \n",
       "\n",
       "[246170 rows x 7 columns]"
      ]
     },
     "execution_count": 51,
     "metadata": {},
     "output_type": "execute_result"
    }
   ],
   "source": [
    "df_2016 = df[df['year']==2016]\n",
    "df_2016"
   ]
  },
  {
   "cell_type": "code",
   "execution_count": 52,
   "id": "66f785fa",
   "metadata": {},
   "outputs": [
    {
     "data": {
      "text/html": [
       "<div>\n",
       "<style scoped>\n",
       "    .dataframe tbody tr th:only-of-type {\n",
       "        vertical-align: middle;\n",
       "    }\n",
       "\n",
       "    .dataframe tbody tr th {\n",
       "        vertical-align: top;\n",
       "    }\n",
       "\n",
       "    .dataframe thead th {\n",
       "        text-align: right;\n",
       "    }\n",
       "</style>\n",
       "<table border=\"1\" class=\"dataframe\">\n",
       "  <thead>\n",
       "    <tr style=\"text-align: right;\">\n",
       "      <th>major_category</th>\n",
       "      <th>Burglary</th>\n",
       "      <th>Criminal Damage</th>\n",
       "      <th>Drugs</th>\n",
       "      <th>Fraud or Forgery</th>\n",
       "      <th>Other Notifiable Offences</th>\n",
       "      <th>Robbery</th>\n",
       "      <th>Sexual Offences</th>\n",
       "      <th>Theft and Handling</th>\n",
       "      <th>Violence Against the Person</th>\n",
       "    </tr>\n",
       "    <tr>\n",
       "      <th>year</th>\n",
       "      <th></th>\n",
       "      <th></th>\n",
       "      <th></th>\n",
       "      <th></th>\n",
       "      <th></th>\n",
       "      <th></th>\n",
       "      <th></th>\n",
       "      <th></th>\n",
       "      <th></th>\n",
       "    </tr>\n",
       "  </thead>\n",
       "  <tbody>\n",
       "    <tr>\n",
       "      <th>2008</th>\n",
       "      <td>29367</td>\n",
       "      <td>44774</td>\n",
       "      <td>15568</td>\n",
       "      <td>1835</td>\n",
       "      <td>6452</td>\n",
       "      <td>13099</td>\n",
       "      <td>957</td>\n",
       "      <td>72182</td>\n",
       "      <td>56732</td>\n",
       "    </tr>\n",
       "    <tr>\n",
       "      <th>2009</th>\n",
       "      <td>29193</td>\n",
       "      <td>43518</td>\n",
       "      <td>15686</td>\n",
       "      <td>0</td>\n",
       "      <td>6587</td>\n",
       "      <td>12889</td>\n",
       "      <td>0</td>\n",
       "      <td>72672</td>\n",
       "      <td>57552</td>\n",
       "    </tr>\n",
       "    <tr>\n",
       "      <th>2010</th>\n",
       "      <td>29471</td>\n",
       "      <td>41800</td>\n",
       "      <td>15863</td>\n",
       "      <td>0</td>\n",
       "      <td>6813</td>\n",
       "      <td>13241</td>\n",
       "      <td>0</td>\n",
       "      <td>72437</td>\n",
       "      <td>55888</td>\n",
       "    </tr>\n",
       "    <tr>\n",
       "      <th>2011</th>\n",
       "      <td>29513</td>\n",
       "      <td>40220</td>\n",
       "      <td>16121</td>\n",
       "      <td>0</td>\n",
       "      <td>6476</td>\n",
       "      <td>13584</td>\n",
       "      <td>0</td>\n",
       "      <td>74065</td>\n",
       "      <td>54768</td>\n",
       "    </tr>\n",
       "    <tr>\n",
       "      <th>2012</th>\n",
       "      <td>30222</td>\n",
       "      <td>37425</td>\n",
       "      <td>15845</td>\n",
       "      <td>0</td>\n",
       "      <td>6910</td>\n",
       "      <td>13515</td>\n",
       "      <td>0</td>\n",
       "      <td>74317</td>\n",
       "      <td>56480</td>\n",
       "    </tr>\n",
       "    <tr>\n",
       "      <th>2013</th>\n",
       "      <td>30037</td>\n",
       "      <td>34805</td>\n",
       "      <td>15980</td>\n",
       "      <td>0</td>\n",
       "      <td>6882</td>\n",
       "      <td>12524</td>\n",
       "      <td>0</td>\n",
       "      <td>72411</td>\n",
       "      <td>60081</td>\n",
       "    </tr>\n",
       "    <tr>\n",
       "      <th>2014</th>\n",
       "      <td>29071</td>\n",
       "      <td>36118</td>\n",
       "      <td>15286</td>\n",
       "      <td>0</td>\n",
       "      <td>7961</td>\n",
       "      <td>10725</td>\n",
       "      <td>0</td>\n",
       "      <td>73009</td>\n",
       "      <td>65345</td>\n",
       "    </tr>\n",
       "    <tr>\n",
       "      <th>2015</th>\n",
       "      <td>28299</td>\n",
       "      <td>37394</td>\n",
       "      <td>14432</td>\n",
       "      <td>0</td>\n",
       "      <td>8493</td>\n",
       "      <td>10553</td>\n",
       "      <td>0</td>\n",
       "      <td>74252</td>\n",
       "      <td>67924</td>\n",
       "    </tr>\n",
       "    <tr>\n",
       "      <th>2016</th>\n",
       "      <td>27862</td>\n",
       "      <td>37715</td>\n",
       "      <td>14097</td>\n",
       "      <td>0</td>\n",
       "      <td>9351</td>\n",
       "      <td>10655</td>\n",
       "      <td>0</td>\n",
       "      <td>77034</td>\n",
       "      <td>69456</td>\n",
       "    </tr>\n",
       "  </tbody>\n",
       "</table>\n",
       "</div>"
      ],
      "text/plain": [
       "major_category  Burglary  Criminal Damage  Drugs  Fraud or Forgery  \\\n",
       "year                                                                 \n",
       "2008               29367            44774  15568              1835   \n",
       "2009               29193            43518  15686                 0   \n",
       "2010               29471            41800  15863                 0   \n",
       "2011               29513            40220  16121                 0   \n",
       "2012               30222            37425  15845                 0   \n",
       "2013               30037            34805  15980                 0   \n",
       "2014               29071            36118  15286                 0   \n",
       "2015               28299            37394  14432                 0   \n",
       "2016               27862            37715  14097                 0   \n",
       "\n",
       "major_category  Other Notifiable Offences  Robbery  Sexual Offences  \\\n",
       "year                                                                  \n",
       "2008                                 6452    13099              957   \n",
       "2009                                 6587    12889                0   \n",
       "2010                                 6813    13241                0   \n",
       "2011                                 6476    13584                0   \n",
       "2012                                 6910    13515                0   \n",
       "2013                                 6882    12524                0   \n",
       "2014                                 7961    10725                0   \n",
       "2015                                 8493    10553                0   \n",
       "2016                                 9351    10655                0   \n",
       "\n",
       "major_category  Theft and Handling  Violence Against the Person  \n",
       "year                                                             \n",
       "2008                         72182                        56732  \n",
       "2009                         72672                        57552  \n",
       "2010                         72437                        55888  \n",
       "2011                         74065                        54768  \n",
       "2012                         74317                        56480  \n",
       "2013                         72411                        60081  \n",
       "2014                         73009                        65345  \n",
       "2015                         74252                        67924  \n",
       "2016                         77034                        69456  "
      ]
     },
     "execution_count": 52,
     "metadata": {},
     "output_type": "execute_result"
    }
   ],
   "source": [
    "major = df.pivot_table(values='value', index=['year'],columns=['major_category'], aggfunc=np.sum, fill_value=0)\n",
    "major"
   ]
  },
  {
   "cell_type": "markdown",
   "id": "c5a76d23",
   "metadata": {},
   "source": [
    "### Box Plot"
   ]
  },
  {
   "cell_type": "code",
   "execution_count": 53,
   "id": "24941c06",
   "metadata": {
    "scrolled": true
   },
   "outputs": [
    {
     "data": {
      "image/png": "[encoded data removed]",
      "text/plain": [
       "<Figure size 640x480 with 1 Axes>"
      ]
     },
     "metadata": {},
     "output_type": "display_data"
    }
   ],
   "source": [
    "robbery = major['Robbery']\n",
    "drugs = major['Drugs']\n",
    "label = ['Robbery', 'Drugs']\n",
    "\n",
    "plt.boxplot([robbery,drugs], labels=label)\n",
    "plt.show()"
   ]
  },
  {
   "cell_type": "markdown",
   "id": "12dfc17e",
   "metadata": {},
   "source": [
    "**Keterangan**"
   ]
  },
  {
   "cell_type": "markdown",
   "id": "774943c3",
   "metadata": {},
   "source": [
    "Dari grafik **Box** di atas didapatkan informasi nilai maximum, minimum, median, kuartil pertama, dan kuartil ketiga dari perbandingan antara Robbery dan Drugs di London Tahun 2008 - 2016."
   ]
  },
  {
   "cell_type": "code",
   "execution_count": 54,
   "id": "3e91f2f7",
   "metadata": {},
   "outputs": [
    {
     "data": {
      "text/html": [
       "<div>\n",
       "<style scoped>\n",
       "    .dataframe tbody tr th:only-of-type {\n",
       "        vertical-align: middle;\n",
       "    }\n",
       "\n",
       "    .dataframe tbody tr th {\n",
       "        vertical-align: top;\n",
       "    }\n",
       "\n",
       "    .dataframe thead th {\n",
       "        text-align: right;\n",
       "    }\n",
       "</style>\n",
       "<table border=\"1\" class=\"dataframe\">\n",
       "  <thead>\n",
       "    <tr style=\"text-align: right;\">\n",
       "      <th>major_category</th>\n",
       "      <th>year</th>\n",
       "      <th>Robbery</th>\n",
       "      <th>Drugs</th>\n",
       "    </tr>\n",
       "  </thead>\n",
       "  <tbody>\n",
       "    <tr>\n",
       "      <th>0</th>\n",
       "      <td>2008</td>\n",
       "      <td>13099</td>\n",
       "      <td>15568</td>\n",
       "    </tr>\n",
       "    <tr>\n",
       "      <th>1</th>\n",
       "      <td>2009</td>\n",
       "      <td>12889</td>\n",
       "      <td>15686</td>\n",
       "    </tr>\n",
       "    <tr>\n",
       "      <th>2</th>\n",
       "      <td>2010</td>\n",
       "      <td>13241</td>\n",
       "      <td>15863</td>\n",
       "    </tr>\n",
       "    <tr>\n",
       "      <th>3</th>\n",
       "      <td>2011</td>\n",
       "      <td>13584</td>\n",
       "      <td>16121</td>\n",
       "    </tr>\n",
       "    <tr>\n",
       "      <th>4</th>\n",
       "      <td>2012</td>\n",
       "      <td>13515</td>\n",
       "      <td>15845</td>\n",
       "    </tr>\n",
       "    <tr>\n",
       "      <th>5</th>\n",
       "      <td>2013</td>\n",
       "      <td>12524</td>\n",
       "      <td>15980</td>\n",
       "    </tr>\n",
       "    <tr>\n",
       "      <th>6</th>\n",
       "      <td>2014</td>\n",
       "      <td>10725</td>\n",
       "      <td>15286</td>\n",
       "    </tr>\n",
       "    <tr>\n",
       "      <th>7</th>\n",
       "      <td>2015</td>\n",
       "      <td>10553</td>\n",
       "      <td>14432</td>\n",
       "    </tr>\n",
       "    <tr>\n",
       "      <th>8</th>\n",
       "      <td>2016</td>\n",
       "      <td>10655</td>\n",
       "      <td>14097</td>\n",
       "    </tr>\n",
       "  </tbody>\n",
       "</table>\n",
       "</div>"
      ],
      "text/plain": [
       "major_category  year  Robbery  Drugs\n",
       "0               2008    13099  15568\n",
       "1               2009    12889  15686\n",
       "2               2010    13241  15863\n",
       "3               2011    13584  16121\n",
       "4               2012    13515  15845\n",
       "5               2013    12524  15980\n",
       "6               2014    10725  15286\n",
       "7               2015    10553  14432\n",
       "8               2016    10655  14097"
      ]
     },
     "execution_count": 54,
     "metadata": {},
     "output_type": "execute_result"
    }
   ],
   "source": [
    "dfscat = major[['Robbery','Drugs']]\n",
    "dfscat = dfscat.reset_index()\n",
    "dfscat"
   ]
  },
  {
   "cell_type": "markdown",
   "id": "4677bd61",
   "metadata": {},
   "source": [
    "### Scatter Plot"
   ]
  },
  {
   "cell_type": "code",
   "execution_count": 55,
   "id": "857bb96a",
   "metadata": {
    "scrolled": false
   },
   "outputs": [
    {
     "data": {
      "image/png": "[encoded data removed]",
      "text/plain": [
       "<Figure size 1000x600 with 1 Axes>"
      ]
     },
     "metadata": {},
     "output_type": "display_data"
    }
   ],
   "source": [
    "ax1 = dfscat.plot(kind='scatter', x='year', y='Robbery', figsize=(10, 6), color='red', label='Robbery')\n",
    "ax2 = dfscat.plot(kind='scatter', x='year', y='Drugs', figsize=(10, 6), color='blue',label='Drugs', ax=ax1 )\n",
    "\n",
    "plt.title('Perbandingan antara Robbery dan Drugs di London Tahun 2008 - 2016')\n",
    "plt.xlabel('Tahun')\n",
    "plt.ylabel('Total Kasus')\n",
    "\n",
    "plt.show()"
   ]
  },
  {
   "cell_type": "markdown",
   "id": "495c87a1",
   "metadata": {},
   "source": [
    "**Keterangan**"
   ]
  },
  {
   "cell_type": "markdown",
   "id": "e059779c",
   "metadata": {},
   "source": [
    "Dari grafik **Scatter** di atas didapatkan informasi tingkat kejahatan dari perbandingan antara Robbery dan Drugs di London setiap tahun pada tahun 2008 - 2016."
   ]
  },
  {
   "cell_type": "markdown",
   "id": "199a0c09",
   "metadata": {},
   "source": [
    "## Wordcloud"
   ]
  },
  {
   "cell_type": "code",
   "execution_count": 56,
   "id": "bc0cae3d",
   "metadata": {},
   "outputs": [],
   "source": [
    "stopwords=set(STOPWORDS)"
   ]
  },
  {
   "cell_type": "code",
   "execution_count": 57,
   "id": "a9ba88c9",
   "metadata": {},
   "outputs": [],
   "source": [
    "databorough = ' '.join(df['major_category'])"
   ]
  },
  {
   "cell_type": "code",
   "execution_count": 58,
   "id": "c5897ed7",
   "metadata": {},
   "outputs": [
    {
     "data": {
      "text/plain": [
       "<wordcloud.wordcloud.WordCloud at 0x21e0c441190>"
      ]
     },
     "execution_count": 58,
     "metadata": {},
     "output_type": "execute_result"
    }
   ],
   "source": [
    "major_wc = WordCloud(\n",
    "background_color='white',\n",
    "max_words=100,\n",
    "stopwords=stopwords\n",
    ")\n",
    "\n",
    "# generate the word cloud\n",
    "major_wc.generate(databorough)"
   ]
  },
  {
   "cell_type": "code",
   "execution_count": 59,
   "id": "ba59e1f7",
   "metadata": {},
   "outputs": [
    {
     "data": {
      "image/png": "[encoded data removed]",
      "text/plain": [
       "<Figure size 640x480 with 1 Axes>"
      ]
     },
     "metadata": {},
     "output_type": "display_data"
    }
   ],
   "source": [
    "plt.imshow(major_wc, interpolation='bilinear')\n",
    "plt.axis('off')\n",
    "plt.show()"
   ]
  },
  {
   "cell_type": "markdown",
   "id": "fdcd875f",
   "metadata": {},
   "source": [
    "## Folium Map"
   ]
  },
  {
   "cell_type": "code",
   "execution_count": 60,
   "id": "1a725d80",
   "metadata": {},
   "outputs": [
    {
     "data": {
      "text/html": [
       "<div style=\"width:100%;\"><div style=\"position:relative;width:100%;height:0;padding-bottom:60%;\"><span style=\"color:#565656\">Make this Notebook Trusted to load map: File -> Trust Notebook</span><iframe srcdoc=\"&lt;!DOCTYPE html&gt;\n",
       "&lt;html&gt;\n",
       "&lt;head&gt;\n",
       "    \n",
       "    &lt;meta http-equiv=&quot;content-type&quot; content=&quot;text/html; charset=UTF-8&quot; /&gt;\n",
       "    \n",
       "        &lt;script&gt;\n",
       "            L_NO_TOUCH = false;\n",
       "            L_DISABLE_3D = false;\n",
       "        &lt;/script&gt;\n",
       "    \n",
       "    &lt;style&gt;html, body {width: 100%;height: 100%;margin: 0;padding: 0;}&lt;/style&gt;\n",
       "    &lt;style&gt;#map {position:absolute;top:0;bottom:0;right:0;left:0;}&lt;/style&gt;\n",
       "    &lt;script src=&quot;https://cdn.jsdelivr.net/npm/leaflet@1.9.3/dist/leaflet.js&quot;&gt;&lt;/script&gt;\n",
       "    &lt;script src=&quot;https://code.jquery.com/jquery-1.12.4.min.js&quot;&gt;&lt;/script&gt;\n",
       "    &lt;script src=&quot;https://cdn.jsdelivr.net/npm/bootstrap@5.2.2/dist/js/bootstrap.bundle.min.js&quot;&gt;&lt;/script&gt;\n",
       "    &lt;script src=&quot;https://cdnjs.cloudflare.com/ajax/libs/Leaflet.awesome-markers/2.0.2/leaflet.awesome-markers.js&quot;&gt;&lt;/script&gt;\n",
       "    &lt;link rel=&quot;stylesheet&quot; href=&quot;https://cdn.jsdelivr.net/npm/leaflet@1.9.3/dist/leaflet.css&quot;/&gt;\n",
       "    &lt;link rel=&quot;stylesheet&quot; href=&quot;https://cdn.jsdelivr.net/npm/bootstrap@5.2.2/dist/css/bootstrap.min.css&quot;/&gt;\n",
       "    &lt;link rel=&quot;stylesheet&quot; href=&quot;https://netdna.bootstrapcdn.com/bootstrap/3.0.0/css/bootstrap.min.css&quot;/&gt;\n",
       "    &lt;link rel=&quot;stylesheet&quot; href=&quot;https://cdn.jsdelivr.net/npm/@fortawesome/fontawesome-free@6.2.0/css/all.min.css&quot;/&gt;\n",
       "    &lt;link rel=&quot;stylesheet&quot; href=&quot;https://cdnjs.cloudflare.com/ajax/libs/Leaflet.awesome-markers/2.0.2/leaflet.awesome-markers.css&quot;/&gt;\n",
       "    &lt;link rel=&quot;stylesheet&quot; href=&quot;https://cdn.jsdelivr.net/gh/python-visualization/folium/folium/templates/leaflet.awesome.rotate.min.css&quot;/&gt;\n",
       "    \n",
       "            &lt;meta name=&quot;viewport&quot; content=&quot;width=device-width,\n",
       "                initial-scale=1.0, maximum-scale=1.0, user-scalable=no&quot; /&gt;\n",
       "            &lt;style&gt;\n",
       "                #map_d1946631a1ee7a9da8ead0a27afa16df {\n",
       "                    position: relative;\n",
       "                    width: 100.0%;\n",
       "                    height: 100.0%;\n",
       "                    left: 0.0%;\n",
       "                    top: 0.0%;\n",
       "                }\n",
       "                .leaflet-container { font-size: 1rem; }\n",
       "            &lt;/style&gt;\n",
       "        \n",
       "&lt;/head&gt;\n",
       "&lt;body&gt;\n",
       "    \n",
       "    \n",
       "            &lt;div class=&quot;folium-map&quot; id=&quot;map_d1946631a1ee7a9da8ead0a27afa16df&quot; &gt;&lt;/div&gt;\n",
       "        \n",
       "&lt;/body&gt;\n",
       "&lt;script&gt;\n",
       "    \n",
       "    \n",
       "            var map_d1946631a1ee7a9da8ead0a27afa16df = L.map(\n",
       "                &quot;map_d1946631a1ee7a9da8ead0a27afa16df&quot;,\n",
       "                {\n",
       "                    center: [0, 0],\n",
       "                    crs: L.CRS.EPSG3857,\n",
       "                    zoom: 1,\n",
       "                    zoomControl: true,\n",
       "                    preferCanvas: false,\n",
       "                }\n",
       "            );\n",
       "\n",
       "            \n",
       "\n",
       "        \n",
       "    \n",
       "            var tile_layer_fcac22f9624ce8fa7060ced2f45bf909 = L.tileLayer(\n",
       "                &quot;https://{s}.tile.openstreetmap.org/{z}/{x}/{y}.png&quot;,\n",
       "                {&quot;attribution&quot;: &quot;Data by \\u0026copy; \\u003ca target=\\&quot;_blank\\&quot; href=\\&quot;http://openstreetmap.org\\&quot;\\u003eOpenStreetMap\\u003c/a\\u003e, under \\u003ca target=\\&quot;_blank\\&quot; href=\\&quot;http://www.openstreetmap.org/copyright\\&quot;\\u003eODbL\\u003c/a\\u003e.&quot;, &quot;detectRetina&quot;: false, &quot;maxNativeZoom&quot;: 18, &quot;maxZoom&quot;: 18, &quot;minZoom&quot;: 0, &quot;noWrap&quot;: false, &quot;opacity&quot;: 1, &quot;subdomains&quot;: &quot;abc&quot;, &quot;tms&quot;: false}\n",
       "            ).addTo(map_d1946631a1ee7a9da8ead0a27afa16df);\n",
       "        \n",
       "&lt;/script&gt;\n",
       "&lt;/html&gt;\" style=\"position:absolute;width:100%;height:100%;left:0;top:0;border:none !important;\" allowfullscreen webkitallowfullscreen mozallowfullscreen></iframe></div></div>"
      ],
      "text/plain": [
       "<folium.folium.Map at 0x21e31161460>"
      ]
     },
     "execution_count": 60,
     "metadata": {},
     "output_type": "execute_result"
    }
   ],
   "source": [
    "# define the world map\n",
    "world_map = folium.Map()\n",
    "\n",
    "# display world map\n",
    "world_map"
   ]
  },
  {
   "cell_type": "code",
   "execution_count": 61,
   "id": "476899ee",
   "metadata": {},
   "outputs": [],
   "source": [
    "# London Latitude and longitude values\n",
    "latitude = 51.509865\n",
    "longitude = -0.118092"
   ]
  },
  {
   "cell_type": "code",
   "execution_count": 62,
   "id": "490dd59b",
   "metadata": {},
   "outputs": [
    {
     "data": {
      "text/html": [
       "<div style=\"width:100%;\"><div style=\"position:relative;width:100%;height:0;padding-bottom:60%;\"><span style=\"color:#565656\">Make this Notebook Trusted to load map: File -> Trust Notebook</span><iframe srcdoc=\"&lt;!DOCTYPE html&gt;\n",
       "&lt;html&gt;\n",
       "&lt;head&gt;\n",
       "    \n",
       "    &lt;meta http-equiv=&quot;content-type&quot; content=&quot;text/html; charset=UTF-8&quot; /&gt;\n",
       "    \n",
       "        &lt;script&gt;\n",
       "            L_NO_TOUCH = false;\n",
       "            L_DISABLE_3D = false;\n",
       "        &lt;/script&gt;\n",
       "    \n",
       "    &lt;style&gt;html, body {width: 100%;height: 100%;margin: 0;padding: 0;}&lt;/style&gt;\n",
       "    &lt;style&gt;#map {position:absolute;top:0;bottom:0;right:0;left:0;}&lt;/style&gt;\n",
       "    &lt;script src=&quot;https://cdn.jsdelivr.net/npm/leaflet@1.9.3/dist/leaflet.js&quot;&gt;&lt;/script&gt;\n",
       "    &lt;script src=&quot;https://code.jquery.com/jquery-1.12.4.min.js&quot;&gt;&lt;/script&gt;\n",
       "    &lt;script src=&quot;https://cdn.jsdelivr.net/npm/bootstrap@5.2.2/dist/js/bootstrap.bundle.min.js&quot;&gt;&lt;/script&gt;\n",
       "    &lt;script src=&quot;https://cdnjs.cloudflare.com/ajax/libs/Leaflet.awesome-markers/2.0.2/leaflet.awesome-markers.js&quot;&gt;&lt;/script&gt;\n",
       "    &lt;link rel=&quot;stylesheet&quot; href=&quot;https://cdn.jsdelivr.net/npm/leaflet@1.9.3/dist/leaflet.css&quot;/&gt;\n",
       "    &lt;link rel=&quot;stylesheet&quot; href=&quot;https://cdn.jsdelivr.net/npm/bootstrap@5.2.2/dist/css/bootstrap.min.css&quot;/&gt;\n",
       "    &lt;link rel=&quot;stylesheet&quot; href=&quot;https://netdna.bootstrapcdn.com/bootstrap/3.0.0/css/bootstrap.min.css&quot;/&gt;\n",
       "    &lt;link rel=&quot;stylesheet&quot; href=&quot;https://cdn.jsdelivr.net/npm/@fortawesome/fontawesome-free@6.2.0/css/all.min.css&quot;/&gt;\n",
       "    &lt;link rel=&quot;stylesheet&quot; href=&quot;https://cdnjs.cloudflare.com/ajax/libs/Leaflet.awesome-markers/2.0.2/leaflet.awesome-markers.css&quot;/&gt;\n",
       "    &lt;link rel=&quot;stylesheet&quot; href=&quot;https://cdn.jsdelivr.net/gh/python-visualization/folium/folium/templates/leaflet.awesome.rotate.min.css&quot;/&gt;\n",
       "    \n",
       "            &lt;meta name=&quot;viewport&quot; content=&quot;width=device-width,\n",
       "                initial-scale=1.0, maximum-scale=1.0, user-scalable=no&quot; /&gt;\n",
       "            &lt;style&gt;\n",
       "                #map_756de74b2f189bc7042c868628413042 {\n",
       "                    position: relative;\n",
       "                    width: 100.0%;\n",
       "                    height: 100.0%;\n",
       "                    left: 0.0%;\n",
       "                    top: 0.0%;\n",
       "                }\n",
       "                .leaflet-container { font-size: 1rem; }\n",
       "            &lt;/style&gt;\n",
       "        \n",
       "&lt;/head&gt;\n",
       "&lt;body&gt;\n",
       "    \n",
       "    \n",
       "            &lt;div class=&quot;folium-map&quot; id=&quot;map_756de74b2f189bc7042c868628413042&quot; &gt;&lt;/div&gt;\n",
       "        \n",
       "&lt;/body&gt;\n",
       "&lt;script&gt;\n",
       "    \n",
       "    \n",
       "            var map_756de74b2f189bc7042c868628413042 = L.map(\n",
       "                &quot;map_756de74b2f189bc7042c868628413042&quot;,\n",
       "                {\n",
       "                    center: [51.509865, -0.118092],\n",
       "                    crs: L.CRS.EPSG3857,\n",
       "                    zoom: 14,\n",
       "                    zoomControl: true,\n",
       "                    preferCanvas: false,\n",
       "                }\n",
       "            );\n",
       "\n",
       "            \n",
       "\n",
       "        \n",
       "    \n",
       "            var tile_layer_7a8bc1941438fd09d217df2a7debec6c = L.tileLayer(\n",
       "                &quot;https://{s}.tile.openstreetmap.org/{z}/{x}/{y}.png&quot;,\n",
       "                {&quot;attribution&quot;: &quot;Data by \\u0026copy; \\u003ca target=\\&quot;_blank\\&quot; href=\\&quot;http://openstreetmap.org\\&quot;\\u003eOpenStreetMap\\u003c/a\\u003e, under \\u003ca target=\\&quot;_blank\\&quot; href=\\&quot;http://www.openstreetmap.org/copyright\\&quot;\\u003eODbL\\u003c/a\\u003e.&quot;, &quot;detectRetina&quot;: false, &quot;maxNativeZoom&quot;: 18, &quot;maxZoom&quot;: 18, &quot;minZoom&quot;: 0, &quot;noWrap&quot;: false, &quot;opacity&quot;: 1, &quot;subdomains&quot;: &quot;abc&quot;, &quot;tms&quot;: false}\n",
       "            ).addTo(map_756de74b2f189bc7042c868628413042);\n",
       "        \n",
       "&lt;/script&gt;\n",
       "&lt;/html&gt;\" style=\"position:absolute;width:100%;height:100%;left:0;top:0;border:none !important;\" allowfullscreen webkitallowfullscreen mozallowfullscreen></iframe></div></div>"
      ],
      "text/plain": [
       "<folium.folium.Map at 0x21e311617c0>"
      ]
     },
     "execution_count": 62,
     "metadata": {},
     "output_type": "execute_result"
    }
   ],
   "source": [
    "# create map and display it\n",
    "london_map = folium.Map(location=[latitude, longitude], zoom_start = 14)\n",
    "\n",
    "# display the map of San Francisco\n",
    "london_map"
   ]
  },
  {
   "cell_type": "code",
   "execution_count": null,
   "id": "12f36a0f",
   "metadata": {},
   "outputs": [],
   "source": []
  }
 ],
 "metadata": {
  "kernelspec": {
   "display_name": "Python 3 (ipykernel)",
   "language": "python",
   "name": "python3"
  },
  "language_info": {
   "codemirror_mode": {
    "name": "ipython",
    "version": 3
   },
   "file_extension": ".py",
   "mimetype": "text/x-python",
   "name": "python",
   "nbconvert_exporter": "python",
   "pygments_lexer": "ipython3",
   "version": "3.9.13"
  },
  "toc": {
   "base_numbering": 1,
   "nav_menu": {},
   "number_sections": true,
   "sideBar": true,
   "skip_h1_title": false,
   "title_cell": "Table of Contents",
   "title_sidebar": "Contents",
   "toc_cell": false,
   "toc_position": {
    "height": "calc(100% - 180px)",
    "left": "10px",
    "top": "150px",
    "width": "341.306px"
   },
   "toc_section_display": true,
   "toc_window_display": true
  }
 },
 "nbformat": 4,
 "nbformat_minor": 5
}
