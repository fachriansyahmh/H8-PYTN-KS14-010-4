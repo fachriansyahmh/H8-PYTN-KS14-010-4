{
 "cells": [
  {
   "cell_type": "markdown",
   "id": "f5f37a6f",
   "metadata": {},
   "source": [
    "# Kode Jupyter"
   ]
  },
  {
   "cell_type": "markdown",
   "id": "12f250f3",
   "metadata": {},
   "source": [
    "## Simple Syntax"
   ]
  },
  {
   "cell_type": "code",
   "execution_count": 5,
   "id": "b5339c5b",
   "metadata": {},
   "outputs": [
    {
     "name": "stdout",
     "output_type": "stream",
     "text": [
      "Hello kode\n"
     ]
    }
   ],
   "source": [
    "print(\"Hello kode\")"
   ]
  },
  {
   "cell_type": "code",
   "execution_count": 7,
   "id": "cbb651be",
   "metadata": {},
   "outputs": [
    {
     "name": "stdout",
     "output_type": "stream",
     "text": [
      "1\n",
      "2\n",
      "3\n",
      "4\n",
      "5\n",
      "6\n",
      "7\n",
      "8\n",
      "9\n",
      "10\n"
     ]
    }
   ],
   "source": [
    "i = 1\n",
    "while (i <= 10):\n",
    "    print(i)\n",
    "    i = i+1"
   ]
  },
  {
   "cell_type": "markdown",
   "id": "351acb4c",
   "metadata": {},
   "source": [
    "## Using Library"
   ]
  },
  {
   "cell_type": "code",
   "execution_count": 9,
   "id": "ae466f18",
   "metadata": {},
   "outputs": [],
   "source": [
    "import pandas as pd\n",
    "import numpy as np"
   ]
  },
  {
   "cell_type": "code",
   "execution_count": 12,
   "id": "b72931c1",
   "metadata": {},
   "outputs": [
    {
     "data": {
      "text/html": [
       "<div>\n",
       "<style scoped>\n",
       "    .dataframe tbody tr th:only-of-type {\n",
       "        vertical-align: middle;\n",
       "    }\n",
       "\n",
       "    .dataframe tbody tr th {\n",
       "        vertical-align: top;\n",
       "    }\n",
       "\n",
       "    .dataframe thead th {\n",
       "        text-align: right;\n",
       "    }\n",
       "</style>\n",
       "<table border=\"1\" class=\"dataframe\">\n",
       "  <thead>\n",
       "    <tr style=\"text-align: right;\">\n",
       "      <th></th>\n",
       "      <th>A</th>\n",
       "      <th>B</th>\n",
       "      <th>C</th>\n",
       "    </tr>\n",
       "  </thead>\n",
       "  <tbody>\n",
       "    <tr>\n",
       "      <th>0</th>\n",
       "      <td>1</td>\n",
       "      <td>2</td>\n",
       "      <td>3</td>\n",
       "    </tr>\n",
       "    <tr>\n",
       "      <th>1</th>\n",
       "      <td>4</td>\n",
       "      <td>5</td>\n",
       "      <td>6</td>\n",
       "    </tr>\n",
       "  </tbody>\n",
       "</table>\n",
       "</div>"
      ],
      "text/plain": [
       "   A  B  C\n",
       "0  1  2  3\n",
       "1  4  5  6"
      ]
     },
     "execution_count": 12,
     "metadata": {},
     "output_type": "execute_result"
    }
   ],
   "source": [
    "data = pd.DataFrame(data=np.array(\n",
    "    [[1, 2, 3], [4, 5, 6]], dtype=int), columns=['A', 'B', 'C'])\n",
    "data"
   ]
  },
  {
   "cell_type": "markdown",
   "id": "8de64e7e",
   "metadata": {},
   "source": [
    "## Using Latex"
   ]
  },
  {
   "cell_type": "markdown",
   "id": "27f20c98",
   "metadata": {},
   "source": [
    "$$c = \\sqrt{a^2 + b^2} $$"
   ]
  },
  {
   "cell_type": "code",
   "execution_count": 1,
   "id": "4ca83e01",
   "metadata": {},
   "outputs": [
    {
     "data": {
      "text/latex": [
       "$\\displaystyle \\sqrt{a^2 + b^2}$"
      ],
      "text/plain": [
       "<IPython.core.display.Math object>"
      ]
     },
     "metadata": {},
     "output_type": "display_data"
    }
   ],
   "source": [
    "from IPython.display import display, Math, Latex\n",
    "display(Math(r'\\sqrt{a^2 + b^2}'))"
   ]
  },
  {
   "cell_type": "markdown",
   "id": "5e40400e",
   "metadata": {},
   "source": [
    "## Executin Shell Commands"
   ]
  },
  {
   "cell_type": "code",
   "execution_count": 30,
   "id": "313723d3",
   "metadata": {},
   "outputs": [
    {
     "name": "stdout",
     "output_type": "stream",
     "text": [
      " Volume in drive C is Windows-SSD\n",
      " Volume Serial Number is 1405-F31B\n",
      "\n",
      " Directory of C:\\Users\\Fachri\n",
      "\n",
      "08/03/2023  19:02    <DIR>          .\n",
      "08/03/2023  19:02    <DIR>          ..\n",
      "19/05/2022  23:41    <DIR>          .android\n",
      "08/03/2023  18:24            12.018 .bash_history\n",
      "13/02/2022  20:07    <DIR>          .cache\n",
      "08/03/2023  18:27    <DIR>          .conda\n",
      "22/02/2023  19:38                25 .condarc\n",
      "15/12/2022  22:34    <DIR>          .config\n",
      "22/02/2023  19:38    <DIR>          .continuum\n",
      "23/02/2023  08:31               125 .gitconfig\n",
      "02/10/2022  00:10    <DIR>          .insomniac\n",
      "08/03/2023  18:46    <DIR>          .ipynb_checkpoints\n",
      "22/02/2023  17:27    <DIR>          .ipython\n",
      "08/03/2023  18:25    <DIR>          .jupyter\n",
      "23/02/2023  08:31                20 .lesshst\n",
      "14/03/2022  22:45    <DIR>          .m2\n",
      "01/09/2022  11:28    <DIR>          .ms-ad\n",
      "20/11/2022  19:53    <DIR>          .nbi\n",
      "16/11/2022  23:01    <DIR>          .node\n",
      "27/06/2022  11:23    <DIR>          .VirtualBox\n",
      "08/02/2022  23:11    <DIR>          .vscode\n",
      "09/02/2022  11:43    <DIR>          3D Objects\n",
      "22/02/2023  17:26    <DIR>          anaconda3\n",
      "10/02/2022  11:58    <DIR>          ansel\n",
      "09/02/2022  11:43    <DIR>          Contacts\n",
      "03/03/2023  18:32    <DIR>          Desktop\n",
      "22/02/2023  17:20    <DIR>          Documents\n",
      "08/03/2023  18:08    <DIR>          Downloads\n",
      "09/02/2022  11:43    <DIR>          Favorites\n",
      "25/09/2022  13:59    <DIR>          grader\n",
      "26/06/2022  23:19    <DIR>          JaspersoftWorkspace\n",
      "08/03/2023  19:02             7.311 Kode Jupiter.ipynb\n",
      "09/02/2022  11:43    <DIR>          Links\n",
      "09/02/2022  11:43    <DIR>          Music\n",
      "19/03/2022  12:22    <DIR>          OneDrive\n",
      "24/05/2022  06:51    <DIR>          Pictures\n",
      "08/12/2022  22:17    <DIR>          Postman\n",
      "09/02/2022  11:43    <DIR>          Saved Games\n",
      "09/02/2022  11:44    <DIR>          Searches\n",
      "22/02/2023  17:29               901 Untitled.ipynb\n",
      "08/03/2023  18:26                72 Untitled2.ipynb\n",
      "08/03/2023  12:45    <DIR>          Videos\n",
      "14/06/2022  14:38    <DIR>          VirtualBox VMs\n",
      "               7 File(s)         20.472 bytes\n",
      "              36 Dir(s)  141.701.492.736 bytes free\n",
      "\"halo Kode\"\n"
     ]
    }
   ],
   "source": [
    "%ls\n",
    "%pwd\n",
    "%echo \"halo Kode\""
   ]
  },
  {
   "cell_type": "code",
   "execution_count": 2,
   "id": "d5d8a555",
   "metadata": {},
   "outputs": [
    {
     "name": "stdout",
     "output_type": "stream",
     "text": [
      " Volume in drive C is Windows-SSD\n",
      " Volume Serial Number is 1405-F31B\n",
      "\n",
      " Directory of C:\\Users\\Fachri\n",
      "\n",
      "08/03/2023  19:06    <DIR>          .\n",
      "08/03/2023  19:06    <DIR>          ..\n",
      "19/05/2022  23:41    <DIR>          .android\n",
      "08/03/2023  18:24            12.018 .bash_history\n",
      "13/02/2022  20:07    <DIR>          .cache\n",
      "08/03/2023  18:27    <DIR>          .conda\n",
      "22/02/2023  19:38                25 .condarc\n",
      "15/12/2022  22:34    <DIR>          .config\n",
      "22/02/2023  19:38    <DIR>          .continuum\n",
      "23/02/2023  08:31               125 .gitconfig\n",
      "02/10/2022  00:10    <DIR>          .insomniac\n",
      "08/03/2023  18:46    <DIR>          .ipynb_checkpoints\n",
      "22/02/2023  17:27    <DIR>          .ipython\n",
      "08/03/2023  19:17    <DIR>          .jupyter\n",
      "23/02/2023  08:31                20 .lesshst\n",
      "14/03/2022  22:45    <DIR>          .m2\n",
      "01/09/2022  11:28    <DIR>          .ms-ad\n",
      "20/11/2022  19:53    <DIR>          .nbi\n",
      "16/11/2022  23:01    <DIR>          .node\n",
      "27/06/2022  11:23    <DIR>          .VirtualBox\n",
      "08/02/2022  23:11    <DIR>          .vscode\n",
      "09/02/2022  11:43    <DIR>          3D Objects\n",
      "08/03/2023  19:29    <DIR>          anaconda3\n",
      "10/02/2022  11:58    <DIR>          ansel\n",
      "09/02/2022  11:43    <DIR>          Contacts\n",
      "03/03/2023  18:32    <DIR>          Desktop\n",
      "22/02/2023  17:20    <DIR>          Documents\n",
      "08/03/2023  18:08    <DIR>          Downloads\n",
      "09/02/2022  11:43    <DIR>          Favorites\n",
      "25/09/2022  13:59    <DIR>          grader\n",
      "26/06/2022  23:19    <DIR>          JaspersoftWorkspace\n",
      "08/03/2023  19:06            10.170 Kode Jupiter.ipynb\n",
      "09/02/2022  11:43    <DIR>          Links\n",
      "09/02/2022  11:43    <DIR>          Music\n",
      "19/03/2022  12:22    <DIR>          OneDrive\n",
      "24/05/2022  06:51    <DIR>          Pictures\n",
      "08/12/2022  22:17    <DIR>          Postman\n",
      "09/02/2022  11:43    <DIR>          Saved Games\n",
      "09/02/2022  11:44    <DIR>          Searches\n",
      "22/02/2023  17:29               901 Untitled.ipynb\n",
      "08/03/2023  18:26                72 Untitled2.ipynb\n",
      "08/03/2023  12:45    <DIR>          Videos\n",
      "14/06/2022  14:38    <DIR>          VirtualBox VMs\n",
      "               7 File(s)         23.331 bytes\n",
      "              36 Dir(s)  141.392.306.176 bytes free\n",
      "None\n"
     ]
    }
   ],
   "source": [
    "files = %ls\n",
    "print(files)"
   ]
  },
  {
   "cell_type": "markdown",
   "id": "9406b5e1",
   "metadata": {},
   "source": [
    "## Widgets"
   ]
  },
  {
   "cell_type": "code",
   "execution_count": 1,
   "id": "9aafb5bb",
   "metadata": {},
   "outputs": [],
   "source": [
    "from ipywidgets import interact\n",
    "import ipywidgets as widgets"
   ]
  },
  {
   "cell_type": "markdown",
   "id": "8812b4e7",
   "metadata": {},
   "source": [
    "### Basic Slider\n"
   ]
  },
  {
   "cell_type": "code",
   "execution_count": 3,
   "id": "ec4765b1",
   "metadata": {},
   "outputs": [
    {
     "data": {
      "application/vnd.jupyter.widget-view+json": {
       "model_id": "635a7160d0b949d5b6091b25111e93c9",
       "version_major": 2,
       "version_minor": 0
      },
      "text/plain": [
       "interactive(children=(IntSlider(value=10, description='x', max=30, min=-10), Output()), _dom_classes=('widget-…"
      ]
     },
     "metadata": {},
     "output_type": "display_data"
    },
    {
     "data": {
      "text/plain": [
       "<function __main__.f(x)>"
      ]
     },
     "execution_count": 3,
     "metadata": {},
     "output_type": "execute_result"
    }
   ],
   "source": [
    "def f(x):\n",
    "    return x\n",
    "\n",
    "\n",
    "interact(f, x=10)"
   ]
  },
  {
   "cell_type": "markdown",
   "id": "2109527c",
   "metadata": {},
   "source": [
    "### Checkbox"
   ]
  },
  {
   "cell_type": "code",
   "execution_count": 4,
   "id": "76088c48",
   "metadata": {},
   "outputs": [
    {
     "data": {
      "application/vnd.jupyter.widget-view+json": {
       "model_id": "77688f412e9645dc8b1b0145f8fb486e",
       "version_major": 2,
       "version_minor": 0
      },
      "text/plain": [
       "interactive(children=(Checkbox(value=True, description='x'), Output()), _dom_classes=('widget-interact',))"
      ]
     },
     "metadata": {},
     "output_type": "display_data"
    },
    {
     "data": {
      "text/plain": [
       "<function __main__.f(x)>"
      ]
     },
     "execution_count": 4,
     "metadata": {},
     "output_type": "execute_result"
    }
   ],
   "source": [
    "interact(f, x=True)"
   ]
  },
  {
   "cell_type": "markdown",
   "id": "e1ee0e74",
   "metadata": {},
   "source": [
    "### Textbox"
   ]
  },
  {
   "cell_type": "code",
   "execution_count": 5,
   "id": "5fdbd0ba",
   "metadata": {},
   "outputs": [
    {
     "data": {
      "application/vnd.jupyter.widget-view+json": {
       "model_id": "e197fe6807db408bb2aba0b7d9b71c97",
       "version_major": 2,
       "version_minor": 0
      },
      "text/plain": [
       "interactive(children=(Text(value='Hi Kode!', description='x'), Output()), _dom_classes=('widget-interact',))"
      ]
     },
     "metadata": {},
     "output_type": "display_data"
    },
    {
     "data": {
      "text/plain": [
       "<function __main__.f(x)>"
      ]
     },
     "execution_count": 5,
     "metadata": {},
     "output_type": "execute_result"
    }
   ],
   "source": [
    "interact(f, x='Hi Kode!')"
   ]
  },
  {
   "cell_type": "markdown",
   "id": "d03bd1a2",
   "metadata": {},
   "source": [
    "### Play Button"
   ]
  },
  {
   "cell_type": "code",
   "execution_count": 11,
   "id": "b9dffcc6",
   "metadata": {},
   "outputs": [
    {
     "data": {
      "application/vnd.jupyter.widget-view+json": {
       "model_id": "f87c25ca18c1408c8b325e48bb647e42",
       "version_major": 2,
       "version_minor": 0
      },
      "text/plain": [
       "HBox(children=(Play(value=50, description='Tekan Play'), IntSlider(value=0)))"
      ]
     },
     "metadata": {},
     "output_type": "display_data"
    }
   ],
   "source": [
    "play = widgets.Play(\n",
    "    value=50,\n",
    "    min=0,\n",
    "    max=100,\n",
    "    step=1,\n",
    "    description=\"Tekan Play\",\n",
    "    disabled=False)\n",
    "slider = widgets.IntSlider()\n",
    "widgets.jslink((play, 'value'), (slider, 'value'))\n",
    "widgets.HBox([play, slider])"
   ]
  },
  {
   "cell_type": "code",
   "execution_count": 16,
   "id": "76b98f57",
   "metadata": {},
   "outputs": [
    {
     "data": {
      "application/vnd.jupyter.widget-view+json": {
       "model_id": "aa6a953852ff4196b4f5c25e32018d89",
       "version_major": 2,
       "version_minor": 0
      },
      "text/plain": [
       "DatePicker(value=None, description='Pilih Tanggal')"
      ]
     },
     "metadata": {},
     "output_type": "display_data"
    }
   ],
   "source": [
    "widgets.DatePicker(\n",
    "    description='Pilih Tanggal',\n",
    "    disabled=False\n",
    ")"
   ]
  },
  {
   "cell_type": "code",
   "execution_count": 17,
   "id": "53837d73",
   "metadata": {},
   "outputs": [
    {
     "data": {
      "application/vnd.jupyter.widget-view+json": {
       "model_id": "fac7b63a77e546569aa7aa7edf9e366e",
       "version_major": 2,
       "version_minor": 0
      },
      "text/plain": [
       "Tab(children=(Text(value='', description='K0'), Text(value='', description='K1'), Text(value='', description='…"
      ]
     },
     "metadata": {},
     "output_type": "display_data"
    }
   ],
   "source": [
    "tab_contents = ['K0', 'K1', 'K2', 'K3', 'K4']\n",
    "children = [widgets.Text(description=name) for name in tab_contents]\n",
    "tab = widgets.Tab()\n",
    "tab.children = children\n",
    "for i in range(len(children)):\n",
    "    tab.set_title(i, str(i))\n",
    "tab"
   ]
  }
 ],
 "metadata": {
  "kernelspec": {
   "display_name": "Python 3 (ipykernel)",
   "language": "python",
   "name": "python3"
  },
  "language_info": {
   "codemirror_mode": {
    "name": "ipython",
    "version": 3
   },
   "file_extension": ".py",
   "mimetype": "text/x-python",
   "name": "python",
   "nbconvert_exporter": "python",
   "pygments_lexer": "ipython3",
   "version": "3.9.13"
  },
  "toc": {
   "base_numbering": 1,
   "nav_menu": {},
   "number_sections": true,
   "sideBar": true,
   "skip_h1_title": false,
   "title_cell": "Table of Contents",
   "title_sidebar": "Contents",
   "toc_cell": false,
   "toc_position": {},
   "toc_section_display": true,
   "toc_window_display": false
  }
 },
 "nbformat": 4,
 "nbformat_minor": 5
}
